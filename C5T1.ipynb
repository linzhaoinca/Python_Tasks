{
 "cells": [
  {
   "cell_type": "markdown",
   "metadata": {},
   "source": [
    "# Libraries and Modules"
   ]
  },
  {
   "cell_type": "code",
   "execution_count": 1,
   "metadata": {},
   "outputs": [],
   "source": [
    "import math"
   ]
  },
  {
   "cell_type": "code",
   "execution_count": 2,
   "metadata": {},
   "outputs": [
    {
     "data": {
      "text/plain": [
       "5.0"
      ]
     },
     "execution_count": 2,
     "metadata": {},
     "output_type": "execute_result"
    }
   ],
   "source": [
    "math.sqrt(25)"
   ]
  },
  {
   "cell_type": "code",
   "execution_count": 3,
   "metadata": {},
   "outputs": [
    {
     "data": {
      "text/plain": [
       "3.141592653589793"
      ]
     },
     "execution_count": 3,
     "metadata": {},
     "output_type": "execute_result"
    }
   ],
   "source": [
    "math.pi"
   ]
  },
  {
   "cell_type": "code",
   "execution_count": 4,
   "metadata": {},
   "outputs": [],
   "source": [
    "import math as mt"
   ]
  },
  {
   "cell_type": "code",
   "execution_count": 12,
   "metadata": {},
   "outputs": [
    {
     "data": {
      "text/plain": [
       "5.0"
      ]
     },
     "execution_count": 12,
     "metadata": {},
     "output_type": "execute_result"
    }
   ],
   "source": [
    "mt.sqrt(25)"
   ]
  },
  {
   "cell_type": "code",
   "execution_count": 13,
   "metadata": {},
   "outputs": [],
   "source": [
    "import numpy as np\n",
    "import math as mt\n",
    "from scipy import stats"
   ]
  },
  {
   "cell_type": "code",
   "execution_count": 14,
   "metadata": {},
   "outputs": [],
   "source": [
    "from numpy import random"
   ]
  },
  {
   "cell_type": "code",
   "execution_count": 15,
   "metadata": {},
   "outputs": [],
   "source": [
    "import numpy as np"
   ]
  },
  {
   "cell_type": "code",
   "execution_count": 17,
   "metadata": {},
   "outputs": [],
   "source": [
    "# uniform random numbers in [0,1]\n",
    "dataOne = random.rand(5,5)"
   ]
  },
  {
   "cell_type": "code",
   "execution_count": 18,
   "metadata": {},
   "outputs": [
    {
     "data": {
      "text/plain": [
       "array([[0.11674725, 0.71016463, 0.1733693 , 0.74732019, 0.99339349],\n",
       "       [0.88802728, 0.70540938, 0.79546283, 0.62560782, 0.97449185],\n",
       "       [0.77560015, 0.28605061, 0.21983791, 0.80953816, 0.61699111],\n",
       "       [0.27698479, 0.21373389, 0.54325439, 0.7018558 , 0.80663027],\n",
       "       [0.37578693, 0.85918727, 0.12083069, 0.48336556, 0.53864225]])"
      ]
     },
     "execution_count": 18,
     "metadata": {},
     "output_type": "execute_result"
    }
   ],
   "source": [
    "dataOne"
   ]
  },
  {
   "cell_type": "code",
   "execution_count": 19,
   "metadata": {},
   "outputs": [
    {
     "data": {
      "text/plain": [
       "0.5743313523025149"
      ]
     },
     "execution_count": 19,
     "metadata": {},
     "output_type": "execute_result"
    }
   ],
   "source": [
    "np.mean(dataOne)"
   ]
  },
  {
   "cell_type": "code",
   "execution_count": 60,
   "metadata": {},
   "outputs": [],
   "source": [
    "# Use three predefined functions with math and stats to obtain information about the data stored in the numpy array"
   ]
  },
  {
   "cell_type": "code",
   "execution_count": 21,
   "metadata": {},
   "outputs": [
    {
     "data": {
      "text/plain": [
       "0.6256078172457342"
      ]
     },
     "execution_count": 21,
     "metadata": {},
     "output_type": "execute_result"
    }
   ],
   "source": [
    "np.median(dataOne)"
   ]
  },
  {
   "cell_type": "code",
   "execution_count": 22,
   "metadata": {},
   "outputs": [
    {
     "data": {
      "text/plain": [
       "0.9933934875214497"
      ]
     },
     "execution_count": 22,
     "metadata": {},
     "output_type": "execute_result"
    }
   ],
   "source": [
    "np.max(dataOne)"
   ]
  },
  {
   "cell_type": "code",
   "execution_count": 23,
   "metadata": {},
   "outputs": [
    {
     "data": {
      "text/plain": [
       "0.272266000834753"
      ]
     },
     "execution_count": 23,
     "metadata": {},
     "output_type": "execute_result"
    }
   ],
   "source": [
    "np.std(dataOne)"
   ]
  },
  {
   "cell_type": "code",
   "execution_count": 24,
   "metadata": {},
   "outputs": [
    {
     "data": {
      "text/plain": [
       "0.1167472476945397"
      ]
     },
     "execution_count": 24,
     "metadata": {},
     "output_type": "execute_result"
    }
   ],
   "source": [
    "np.min(dataOne)"
   ]
  },
  {
   "cell_type": "markdown",
   "metadata": {},
   "source": [
    "# Functions"
   ]
  },
  {
   "cell_type": "code",
   "execution_count": 26,
   "metadata": {},
   "outputs": [
    {
     "name": "stdout",
     "output_type": "stream",
     "text": [
      "I Love data Science\n"
     ]
    }
   ],
   "source": [
    "print('I Love data Science')"
   ]
  },
  {
   "cell_type": "code",
   "execution_count": 27,
   "metadata": {},
   "outputs": [
    {
     "name": "stdout",
     "output_type": "stream",
     "text": [
      "I would like to find a DA/DS job in early 2020\n"
     ]
    }
   ],
   "source": [
    "print('I would like to find a DA/DS job in early 2020')"
   ]
  },
  {
   "cell_type": "markdown",
   "metadata": {},
   "source": [
    "# Variables"
   ]
  },
  {
   "cell_type": "code",
   "execution_count": 28,
   "metadata": {},
   "outputs": [],
   "source": [
    "variableName = 25"
   ]
  },
  {
   "cell_type": "code",
   "execution_count": 31,
   "metadata": {},
   "outputs": [],
   "source": [
    "variableName1 = 'I Love data Science'"
   ]
  },
  {
   "cell_type": "code",
   "execution_count": 33,
   "metadata": {},
   "outputs": [
    {
     "name": "stdout",
     "output_type": "stream",
     "text": [
      "I Love data Science\n"
     ]
    }
   ],
   "source": [
    "print(variableName1)"
   ]
  },
  {
   "cell_type": "markdown",
   "metadata": {},
   "source": [
    "# Datatypes"
   ]
  },
  {
   "cell_type": "code",
   "execution_count": 35,
   "metadata": {},
   "outputs": [],
   "source": [
    "variableName = 25"
   ]
  },
  {
   "cell_type": "code",
   "execution_count": 36,
   "metadata": {},
   "outputs": [
    {
     "data": {
      "text/plain": [
       "int"
      ]
     },
     "execution_count": 36,
     "metadata": {},
     "output_type": "execute_result"
    }
   ],
   "source": [
    "type(variableName)"
   ]
  },
  {
   "cell_type": "code",
   "execution_count": 37,
   "metadata": {},
   "outputs": [],
   "source": [
    "variableName = 25.0"
   ]
  },
  {
   "cell_type": "code",
   "execution_count": 38,
   "metadata": {},
   "outputs": [
    {
     "data": {
      "text/plain": [
       "float"
      ]
     },
     "execution_count": 38,
     "metadata": {},
     "output_type": "execute_result"
    }
   ],
   "source": [
    "type(variableName)"
   ]
  },
  {
   "cell_type": "code",
   "execution_count": 39,
   "metadata": {},
   "outputs": [],
   "source": [
    "varOne = 25  "
   ]
  },
  {
   "cell_type": "code",
   "execution_count": 40,
   "metadata": {},
   "outputs": [],
   "source": [
    "varTwo = 'Hello'"
   ]
  },
  {
   "cell_type": "code",
   "execution_count": 41,
   "metadata": {},
   "outputs": [
    {
     "ename": "TypeError",
     "evalue": "unsupported operand type(s) for +: 'int' and 'str'",
     "output_type": "error",
     "traceback": [
      "\u001b[1;31m---------------------------------------------------------------------------\u001b[0m",
      "\u001b[1;31mTypeError\u001b[0m                                 Traceback (most recent call last)",
      "\u001b[1;32m<ipython-input-41-edb8857dd22f>\u001b[0m in \u001b[0;36m<module>\u001b[1;34m\u001b[0m\n\u001b[1;32m----> 1\u001b[1;33m \u001b[0mvarThree\u001b[0m \u001b[1;33m=\u001b[0m \u001b[0mvarOne\u001b[0m \u001b[1;33m+\u001b[0m \u001b[0mvarTwo\u001b[0m\u001b[1;33m\u001b[0m\u001b[1;33m\u001b[0m\u001b[0m\n\u001b[0m",
      "\u001b[1;31mTypeError\u001b[0m: unsupported operand type(s) for +: 'int' and 'str'"
     ]
    }
   ],
   "source": [
    "varThree = varOne + varTwo"
   ]
  },
  {
   "cell_type": "code",
   "execution_count": 42,
   "metadata": {},
   "outputs": [
    {
     "ename": "NameError",
     "evalue": "name 'varThree' is not defined",
     "output_type": "error",
     "traceback": [
      "\u001b[1;31m---------------------------------------------------------------------------\u001b[0m",
      "\u001b[1;31mNameError\u001b[0m                                 Traceback (most recent call last)",
      "\u001b[1;32m<ipython-input-42-6f46d41b8d7f>\u001b[0m in \u001b[0;36m<module>\u001b[1;34m\u001b[0m\n\u001b[1;32m----> 1\u001b[1;33m \u001b[0mprint\u001b[0m\u001b[1;33m(\u001b[0m\u001b[0mvarThree\u001b[0m\u001b[1;33m)\u001b[0m\u001b[1;33m\u001b[0m\u001b[1;33m\u001b[0m\u001b[0m\n\u001b[0m",
      "\u001b[1;31mNameError\u001b[0m: name 'varThree' is not defined"
     ]
    }
   ],
   "source": [
    "print(varThree)"
   ]
  },
  {
   "cell_type": "code",
   "execution_count": 51,
   "metadata": {},
   "outputs": [],
   "source": [
    "x = str(25)\n",
    "y = str('Hello')"
   ]
  },
  {
   "cell_type": "code",
   "execution_count": 53,
   "metadata": {},
   "outputs": [
    {
     "name": "stdout",
     "output_type": "stream",
     "text": [
      "25 Hello\n"
     ]
    }
   ],
   "source": [
    "print(x + \" \" + y)"
   ]
  },
  {
   "cell_type": "code",
   "execution_count": 43,
   "metadata": {},
   "outputs": [
    {
     "name": "stdout",
     "output_type": "stream",
     "text": [
      "(20+0j)\n"
     ]
    }
   ],
   "source": [
    "z = complex(\"20\")\n",
    "print(z)"
   ]
  },
  {
   "cell_type": "markdown",
   "metadata": {},
   "source": [
    "# Lists and Dictionaries"
   ]
  },
  {
   "cell_type": "code",
   "execution_count": 54,
   "metadata": {},
   "outputs": [
    {
     "name": "stdout",
     "output_type": "stream",
     "text": [
      "[2, 3]\n"
     ]
    }
   ],
   "source": [
    "listOne = [1,2,3,4]\n",
    "print(listOne[1:3])"
   ]
  },
  {
   "cell_type": "code",
   "execution_count": 55,
   "metadata": {},
   "outputs": [],
   "source": [
    "tel = {'jack': 4098, 'sape': 4139}"
   ]
  },
  {
   "cell_type": "code",
   "execution_count": 56,
   "metadata": {},
   "outputs": [
    {
     "data": {
      "text/plain": [
       "4098"
      ]
     },
     "execution_count": 56,
     "metadata": {},
     "output_type": "execute_result"
    }
   ],
   "source": [
    "tel['jack']"
   ]
  },
  {
   "cell_type": "code",
   "execution_count": 145,
   "metadata": {},
   "outputs": [
    {
     "data": {
      "text/plain": [
       "4144.0"
      ]
     },
     "execution_count": 145,
     "metadata": {},
     "output_type": "execute_result"
    }
   ],
   "source": [
    "new_tel1 = tel['sape'] + mt.sqrt(25)\n",
    "new_tel1"
   ]
  },
  {
   "cell_type": "code",
   "execution_count": 147,
   "metadata": {},
   "outputs": [
    {
     "data": {
      "text/plain": [
       "4164"
      ]
     },
     "execution_count": 147,
     "metadata": {},
     "output_type": "execute_result"
    }
   ],
   "source": [
    "new_tel2 = tel['sape'] + mt.floor(25)\n",
    "new_tel2"
   ]
  },
  {
   "cell_type": "code",
   "execution_count": 148,
   "metadata": {},
   "outputs": [
    {
     "data": {
      "text/plain": [
       "4142.14159265359"
      ]
     },
     "execution_count": 148,
     "metadata": {},
     "output_type": "execute_result"
    }
   ],
   "source": [
    "new_tel3 = tel['sape'] + mt.pi\n",
    "new_tel3"
   ]
  },
  {
   "cell_type": "code",
   "execution_count": 65,
   "metadata": {},
   "outputs": [],
   "source": [
    "# Define a variable that represents a dictionary with 5 INT elements\n",
    "my_dict = {\"Tommy's age\" : 5, \"Debbie's age\" : 10, \"Grace's age\" : 8, \"Mark's age\": 7, \"Eileen's age\" : 9}"
   ]
  },
  {
   "cell_type": "code",
   "execution_count": 61,
   "metadata": {},
   "outputs": [],
   "source": [
    "# Use functions from the math module to perform three different math operations on three of the five elements; \n",
    "# you may find it easier to define variables for the elements. Feel free to combine elements as needed. "
   ]
  },
  {
   "cell_type": "code",
   "execution_count": 128,
   "metadata": {},
   "outputs": [],
   "source": [
    "my_dict1 = {\"Tommy's age\" : 5, \"Debbie's age\" : 10, \"Grace's age\" : 8}"
   ]
  },
  {
   "cell_type": "code",
   "execution_count": 129,
   "metadata": {},
   "outputs": [
    {
     "data": {
      "text/plain": [
       "5"
      ]
     },
     "execution_count": 129,
     "metadata": {},
     "output_type": "execute_result"
    }
   ],
   "source": [
    "my_dict1[\"Tommy's age\"]"
   ]
  },
  {
   "cell_type": "code",
   "execution_count": 143,
   "metadata": {},
   "outputs": [
    {
     "name": "stdout",
     "output_type": "stream",
     "text": [
      "10.0\n"
     ]
    }
   ],
   "source": [
    "new_dict1 = my_dict1[\"Tommy's age\"] + mt.sqrt(25)\n",
    "print(new_dict1)"
   ]
  },
  {
   "cell_type": "code",
   "execution_count": 142,
   "metadata": {},
   "outputs": [
    {
     "name": "stdout",
     "output_type": "stream",
     "text": [
      "35\n"
     ]
    }
   ],
   "source": [
    "new_dict2 = my_dict1[\"Debbie's age\"] + mt.floor(25)\n",
    "print(new_dict2)"
   ]
  },
  {
   "cell_type": "code",
   "execution_count": 141,
   "metadata": {},
   "outputs": [
    {
     "name": "stdout",
     "output_type": "stream",
     "text": [
      "11.141592653589793\n"
     ]
    }
   ],
   "source": [
    "new_dict3 = my_dict1[\"Grace's age\"] + mt.pi\n",
    "print(new_dict3)"
   ]
  },
  {
   "cell_type": "markdown",
   "metadata": {},
   "source": [
    "# Chapter 4 from Data Science for Dummies"
   ]
  },
  {
   "cell_type": "code",
   "execution_count": 2,
   "metadata": {},
   "outputs": [
    {
     "data": {
      "text/plain": [
       "65"
      ]
     },
     "execution_count": 2,
     "metadata": {},
     "output_type": "execute_result"
    }
   ],
   "source": [
    "ord(\"A\")"
   ]
  },
  {
   "cell_type": "code",
   "execution_count": 3,
   "metadata": {},
   "outputs": [],
   "source": [
    "myInt = int(\"123\") "
   ]
  },
  {
   "cell_type": "code",
   "execution_count": 4,
   "metadata": {},
   "outputs": [
    {
     "data": {
      "text/plain": [
       "123"
      ]
     },
     "execution_count": 4,
     "metadata": {},
     "output_type": "execute_result"
    }
   ],
   "source": [
    "myInt"
   ]
  },
  {
   "cell_type": "code",
   "execution_count": 27,
   "metadata": {},
   "outputs": [],
   "source": [
    "def SayHello(Greeting =\"Howdy!\"):\n",
    "    print(Greeting)"
   ]
  },
  {
   "cell_type": "code",
   "execution_count": 31,
   "metadata": {},
   "outputs": [
    {
     "name": "stdout",
     "output_type": "stream",
     "text": [
      "Howdy!\n"
     ]
    }
   ],
   "source": [
    "SayHello()"
   ]
  },
  {
   "cell_type": "code",
   "execution_count": 33,
   "metadata": {},
   "outputs": [],
   "source": [
    "def DisplayMulti(ArgCount = 0, *VarArgs):    \n",
    "    print('You passed ' + str(ArgCount) + ' arguments.', VarArgs)"
   ]
  },
  {
   "cell_type": "code",
   "execution_count": 36,
   "metadata": {},
   "outputs": [
    {
     "name": "stdout",
     "output_type": "stream",
     "text": [
      "You passed 3 arguments. ('Hello', 1, True)\n"
     ]
    }
   ],
   "source": [
    "DisplayMulti(3, 'Hello', 1, True) "
   ]
  },
  {
   "cell_type": "markdown",
   "metadata": {},
   "source": [
    "# Chapter 5 from Data Science for Dummies"
   ]
  },
  {
   "cell_type": "markdown",
   "metadata": {},
   "source": [
    "## Using Jupter Notebook"
   ]
  },
  {
   "cell_type": "markdown",
   "metadata": {},
   "source": [
    "### Working with styles"
   ]
  },
  {
   "cell_type": "markdown",
   "metadata": {},
   "source": [
    "<h1> Using Jupyter Notebook</h1>"
   ]
  },
  {
   "cell_type": "code",
   "execution_count": 12,
   "metadata": {},
   "outputs": [
    {
     "data": {
      "image/png": "[encoded data removed]",
      "text/plain": [
       "<Figure size 432x288 with 1 Axes>"
      ]
     },
     "metadata": {
      "needs_background": "light"
     },
     "output_type": "display_data"
    },
    {
     "data": {
      "text/plain": [
       "<function matplotlib.pyplot.show(*args, **kw)>"
      ]
     },
     "execution_count": 12,
     "metadata": {},
     "output_type": "execute_result"
    }
   ],
   "source": [
    "# %load https://matplotlib.org/_downloads/pyplot_text.py\n",
    "\"\"\"\n",
    "===========\n",
    "Pyplot Text\n",
    "===========\n",
    "\n",
    "\"\"\"\n",
    "import numpy as np\n",
    "import matplotlib.pyplot as plt\n",
    "\n",
    "# Fixing random state for reproducibility\n",
    "np.random.seed(19680801)\n",
    "\n",
    "mu, sigma = 100, 15\n",
    "x = mu + sigma * np.random.randn(10000)\n",
    "\n",
    "# the histogram of the data\n",
    "n, bins, patches = plt.hist(x, 50, density=True, facecolor='g', alpha=0.75)\n",
    "\n",
    "\n",
    "plt.xlabel('Smarts')\n",
    "plt.ylabel('Probability')\n",
    "plt.title('Histogram of IQ')\n",
    "plt.text(60, .025, r'$\\mu=100,\\ \\sigma=15$')\n",
    "plt.axis([40, 160, 0, 0.03])\n",
    "plt.grid(True)\n",
    "plt.show()\n",
    "\n",
    "#############################################################################\n",
    "#\n",
    "# ------------\n",
    "#\n",
    "# References\n",
    "# \"\"\"\"\"\"\"\"\"\"\n",
    "#\n",
    "# The use of the following functions, methods, classes and modules is shown\n",
    "# in this example:\n",
    "\n",
    "import matplotlib\n",
    "matplotlib.pyplot.hist\n",
    "matplotlib.pyplot.xlabel\n",
    "matplotlib.pyplot.ylabel\n",
    "matplotlib.pyplot.text\n",
    "matplotlib.pyplot.grid\n",
    "matplotlib.pyplot.show\n"
   ]
  },
  {
   "cell_type": "code",
   "execution_count": 24,
   "metadata": {},
   "outputs": [
    {
     "data": {
      "image/jpeg": "[encoded data removed]",
      "text/plain": [
       "<IPython.core.display.Image object>"
      ]
     },
     "execution_count": 24,
     "metadata": {},
     "output_type": "execute_result"
    }
   ],
   "source": [
    "from IPython.display import Image\n",
    "Embed = Image(\n",
    "'http://blog.johnmuellerbooks.com/' +\n",
    "'wp-content/uploads/2015/04/Flower-Basket.jpg')\n",
    "Embed"
   ]
  },
  {
   "cell_type": "code",
   "execution_count": 1,
   "metadata": {},
   "outputs": [
    {
     "data": {
      "image/jpeg": "[encoded data removed]",
      "text/html": [
       "\n",
       "        <iframe\n",
       "            width=\"400\"\n",
       "            height=\"300\"\n",
       "            src=\"https://www.youtube.com/embed/1j_HxD4iLn8\"\n",
       "            frameborder=\"0\"\n",
       "            allowfullscreen\n",
       "        ></iframe>\n",
       "        "
      ],
      "text/plain": [
       "<IPython.lib.display.YouTubeVideo at 0x205cfd47c88>"
      ]
     },
     "execution_count": 1,
     "metadata": {},
     "output_type": "execute_result"
    }
   ],
   "source": [
    "from IPython.display import YouTubeVideo\n",
    "# a talk about IPython at Sage Days at U. Washington, Seattle.\n",
    "# Video credit: William Stein.\n",
    "YouTubeVideo('1j_HxD4iLn8')"
   ]
  },
  {
   "cell_type": "code",
   "execution_count": 29,
   "metadata": {},
   "outputs": [],
   "source": [
    "from IPython.display import set_matplotlib_formats\n",
    "set_matplotlib_formats('pdf', 'svg')"
   ]
  },
  {
   "cell_type": "markdown",
   "metadata": {},
   "source": [
    "<h1> Chapter 6 From Data Science Dummies</h1>"
   ]
  },
  {
   "cell_type": "code",
   "execution_count": 40,
   "metadata": {},
   "outputs": [],
   "source": [
    "from skimage.io import imread\n",
    "from skimage.transform import resize\n",
    "from matplotlib import pyplot as plt\n",
    "import matplotlib.cm as cm"
   ]
  },
  {
   "cell_type": "code",
   "execution_count": 51,
   "metadata": {},
   "outputs": [
    {
     "data": {
      "application/pdf": "[encoded data removed]",
      "image/svg+xml": [
       "<?xml version=\"1.0\" encoding=\"utf-8\" standalone=\"no\"?>\r\n",
       "<!DOCTYPE svg PUBLIC \"-//W3C//DTD SVG 1.1//EN\"\r\n",
       "  \"http://www.w3.org/Graphics/SVG/1.1/DTD/svg11.dtd\">\r\n",
       "<!-- Created with matplotlib (https://matplotlib.org/) -->\r\n",
       "<svg height=\"251.109344pt\" version=\"1.1\" viewBox=\"0 0 251.565 251.109344\" width=\"251.565pt\" xmlns=\"http://www.w3.org/2000/svg\" xmlns:xlink=\"http://www.w3.org/1999/xlink\">\r\n",
       " <defs>\r\n",
       "  <style type=\"text/css\">\r\n",
       "*{stroke-linecap:butt;stroke-linejoin:round;}\r\n",
       "  </style>\r\n",
       " </defs>\r\n",
       " <g id=\"figure_1\">\r\n",
       "  <g id=\"patch_1\">\r\n",
       "   <path d=\"M 0 251.109344 \r\n",
       "L 251.565 251.109344 \r\n",
       "L 251.565 0 \r\n",
       "L 0 0 \r\n",
       "z\r\n",
       "\" style=\"fill:none;\"/>\r\n",
       "  </g>\r\n",
       "  <g id=\"axes_1\">\r\n",
       "   <g id=\"patch_2\">\r\n",
       "    <path d=\"M 26.925 227.231219 \r\n",
       "L 244.365 227.231219 \r\n",
       "L 244.365 9.791219 \r\n",
       "L 26.925 9.791219 \r\n",
       "z\r\n",
       "\" style=\"fill:#ffffff;\"/>\r\n",
       "   </g>\r\n",
       "   <g clip-path=\"url(#pb962144691)\">\r\n",
       "    <image height=\"218\" id=\"image4240b52250\" transform=\"scale(1 -1)translate(0 -218)\" width=\"218\" x=\"26.925\" xlink:href=\"data:image/png;base64,\r\n",
       "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\" y=\"-9.231219\"/>\r\n",
       "   </g>\r\n",
       "   <g id=\"matplotlib.axis_1\">\r\n",
       "    <g id=\"xtick_1\">\r\n",
       "     <g id=\"line2d_1\">\r\n",
       "      <defs>\r\n",
       "       <path d=\"M 0 0 \r\n",
       "L 0 3.5 \r\n",
       "\" id=\"m0fc3b5f9b4\" style=\"stroke:#000000;stroke-width:0.8;\"/>\r\n",
       "      </defs>\r\n",
       "      <g>\r\n",
       "       <use style=\"stroke:#000000;stroke-width:0.8;\" x=\"28.133\" xlink:href=\"#m0fc3b5f9b4\" y=\"227.231219\"/>\r\n",
       "      </g>\r\n",
       "     </g>\r\n",
       "     <g id=\"text_1\">\r\n",
       "      <!-- 0 -->\r\n",
       "      <defs>\r\n",
       "       <path d=\"M 31.78125 66.40625 \r\n",
       "Q 24.171875 66.40625 20.328125 58.90625 \r\n",
       "Q 16.5 51.421875 16.5 36.375 \r\n",
       "Q 16.5 21.390625 20.328125 13.890625 \r\n",
       "Q 24.171875 6.390625 31.78125 6.390625 \r\n",
       "Q 39.453125 6.390625 43.28125 13.890625 \r\n",
       "Q 47.125 21.390625 47.125 36.375 \r\n",
       "Q 47.125 51.421875 43.28125 58.90625 \r\n",
       "Q 39.453125 66.40625 31.78125 66.40625 \r\n",
       "z\r\n",
       "M 31.78125 74.21875 \r\n",
       "Q 44.046875 74.21875 50.515625 64.515625 \r\n",
       "Q 56.984375 54.828125 56.984375 36.375 \r\n",
       "Q 56.984375 17.96875 50.515625 8.265625 \r\n",
       "Q 44.046875 -1.421875 31.78125 -1.421875 \r\n",
       "Q 19.53125 -1.421875 13.0625 8.265625 \r\n",
       "Q 6.59375 17.96875 6.59375 36.375 \r\n",
       "Q 6.59375 54.828125 13.0625 64.515625 \r\n",
       "Q 19.53125 74.21875 31.78125 74.21875 \r\n",
       "z\r\n",
       "\" id=\"DejaVuSans-48\"/>\r\n",
       "      </defs>\r\n",
       "      <g transform=\"translate(24.95175 241.829656)scale(0.1 -0.1)\">\r\n",
       "       <use xlink:href=\"#DejaVuSans-48\"/>\r\n",
       "      </g>\r\n",
       "     </g>\r\n",
       "    </g>\r\n",
       "    <g id=\"xtick_2\">\r\n",
       "     <g id=\"line2d_2\">\r\n",
       "      <g>\r\n",
       "       <use style=\"stroke:#000000;stroke-width:0.8;\" x=\"76.453\" xlink:href=\"#m0fc3b5f9b4\" y=\"227.231219\"/>\r\n",
       "      </g>\r\n",
       "     </g>\r\n",
       "     <g id=\"text_2\">\r\n",
       "      <!-- 20 -->\r\n",
       "      <defs>\r\n",
       "       <path d=\"M 19.1875 8.296875 \r\n",
       "L 53.609375 8.296875 \r\n",
       "L 53.609375 0 \r\n",
       "L 7.328125 0 \r\n",
       "L 7.328125 8.296875 \r\n",
       "Q 12.9375 14.109375 22.625 23.890625 \r\n",
       "Q 32.328125 33.6875 34.8125 36.53125 \r\n",
       "Q 39.546875 41.84375 41.421875 45.53125 \r\n",
       "Q 43.3125 49.21875 43.3125 52.78125 \r\n",
       "Q 43.3125 58.59375 39.234375 62.25 \r\n",
       "Q 35.15625 65.921875 28.609375 65.921875 \r\n",
       "Q 23.96875 65.921875 18.8125 64.3125 \r\n",
       "Q 13.671875 62.703125 7.8125 59.421875 \r\n",
       "L 7.8125 69.390625 \r\n",
       "Q 13.765625 71.78125 18.9375 73 \r\n",
       "Q 24.125 74.21875 28.421875 74.21875 \r\n",
       "Q 39.75 74.21875 46.484375 68.546875 \r\n",
       "Q 53.21875 62.890625 53.21875 53.421875 \r\n",
       "Q 53.21875 48.921875 51.53125 44.890625 \r\n",
       "Q 49.859375 40.875 45.40625 35.40625 \r\n",
       "Q 44.1875 33.984375 37.640625 27.21875 \r\n",
       "Q 31.109375 20.453125 19.1875 8.296875 \r\n",
       "z\r\n",
       "\" id=\"DejaVuSans-50\"/>\r\n",
       "      </defs>\r\n",
       "      <g transform=\"translate(70.0905 241.829656)scale(0.1 -0.1)\">\r\n",
       "       <use xlink:href=\"#DejaVuSans-50\"/>\r\n",
       "       <use x=\"63.623047\" xlink:href=\"#DejaVuSans-48\"/>\r\n",
       "      </g>\r\n",
       "     </g>\r\n",
       "    </g>\r\n",
       "    <g id=\"xtick_3\">\r\n",
       "     <g id=\"line2d_3\">\r\n",
       "      <g>\r\n",
       "       <use style=\"stroke:#000000;stroke-width:0.8;\" x=\"124.773\" xlink:href=\"#m0fc3b5f9b4\" y=\"227.231219\"/>\r\n",
       "      </g>\r\n",
       "     </g>\r\n",
       "     <g id=\"text_3\">\r\n",
       "      <!-- 40 -->\r\n",
       "      <defs>\r\n",
       "       <path d=\"M 37.796875 64.3125 \r\n",
       "L 12.890625 25.390625 \r\n",
       "L 37.796875 25.390625 \r\n",
       "z\r\n",
       "M 35.203125 72.90625 \r\n",
       "L 47.609375 72.90625 \r\n",
       "L 47.609375 25.390625 \r\n",
       "L 58.015625 25.390625 \r\n",
       "L 58.015625 17.1875 \r\n",
       "L 47.609375 17.1875 \r\n",
       "L 47.609375 0 \r\n",
       "L 37.796875 0 \r\n",
       "L 37.796875 17.1875 \r\n",
       "L 4.890625 17.1875 \r\n",
       "L 4.890625 26.703125 \r\n",
       "z\r\n",
       "\" id=\"DejaVuSans-52\"/>\r\n",
       "      </defs>\r\n",
       "      <g transform=\"translate(118.4105 241.829656)scale(0.1 -0.1)\">\r\n",
       "       <use xlink:href=\"#DejaVuSans-52\"/>\r\n",
       "       <use x=\"63.623047\" xlink:href=\"#DejaVuSans-48\"/>\r\n",
       "      </g>\r\n",
       "     </g>\r\n",
       "    </g>\r\n",
       "    <g id=\"xtick_4\">\r\n",
       "     <g id=\"line2d_4\">\r\n",
       "      <g>\r\n",
       "       <use style=\"stroke:#000000;stroke-width:0.8;\" x=\"173.093\" xlink:href=\"#m0fc3b5f9b4\" y=\"227.231219\"/>\r\n",
       "      </g>\r\n",
       "     </g>\r\n",
       "     <g id=\"text_4\">\r\n",
       "      <!-- 60 -->\r\n",
       "      <defs>\r\n",
       "       <path d=\"M 33.015625 40.375 \r\n",
       "Q 26.375 40.375 22.484375 35.828125 \r\n",
       "Q 18.609375 31.296875 18.609375 23.390625 \r\n",
       "Q 18.609375 15.53125 22.484375 10.953125 \r\n",
       "Q 26.375 6.390625 33.015625 6.390625 \r\n",
       "Q 39.65625 6.390625 43.53125 10.953125 \r\n",
       "Q 47.40625 15.53125 47.40625 23.390625 \r\n",
       "Q 47.40625 31.296875 43.53125 35.828125 \r\n",
       "Q 39.65625 40.375 33.015625 40.375 \r\n",
       "z\r\n",
       "M 52.59375 71.296875 \r\n",
       "L 52.59375 62.3125 \r\n",
       "Q 48.875 64.0625 45.09375 64.984375 \r\n",
       "Q 41.3125 65.921875 37.59375 65.921875 \r\n",
       "Q 27.828125 65.921875 22.671875 59.328125 \r\n",
       "Q 17.53125 52.734375 16.796875 39.40625 \r\n",
       "Q 19.671875 43.65625 24.015625 45.921875 \r\n",
       "Q 28.375 48.1875 33.59375 48.1875 \r\n",
       "Q 44.578125 48.1875 50.953125 41.515625 \r\n",
       "Q 57.328125 34.859375 57.328125 23.390625 \r\n",
       "Q 57.328125 12.15625 50.6875 5.359375 \r\n",
       "Q 44.046875 -1.421875 33.015625 -1.421875 \r\n",
       "Q 20.359375 -1.421875 13.671875 8.265625 \r\n",
       "Q 6.984375 17.96875 6.984375 36.375 \r\n",
       "Q 6.984375 53.65625 15.1875 63.9375 \r\n",
       "Q 23.390625 74.21875 37.203125 74.21875 \r\n",
       "Q 40.921875 74.21875 44.703125 73.484375 \r\n",
       "Q 48.484375 72.75 52.59375 71.296875 \r\n",
       "z\r\n",
       "\" id=\"DejaVuSans-54\"/>\r\n",
       "      </defs>\r\n",
       "      <g transform=\"translate(166.7305 241.829656)scale(0.1 -0.1)\">\r\n",
       "       <use xlink:href=\"#DejaVuSans-54\"/>\r\n",
       "       <use x=\"63.623047\" xlink:href=\"#DejaVuSans-48\"/>\r\n",
       "      </g>\r\n",
       "     </g>\r\n",
       "    </g>\r\n",
       "    <g id=\"xtick_5\">\r\n",
       "     <g id=\"line2d_5\">\r\n",
       "      <g>\r\n",
       "       <use style=\"stroke:#000000;stroke-width:0.8;\" x=\"221.413\" xlink:href=\"#m0fc3b5f9b4\" y=\"227.231219\"/>\r\n",
       "      </g>\r\n",
       "     </g>\r\n",
       "     <g id=\"text_5\">\r\n",
       "      <!-- 80 -->\r\n",
       "      <defs>\r\n",
       "       <path d=\"M 31.78125 34.625 \r\n",
       "Q 24.75 34.625 20.71875 30.859375 \r\n",
       "Q 16.703125 27.09375 16.703125 20.515625 \r\n",
       "Q 16.703125 13.921875 20.71875 10.15625 \r\n",
       "Q 24.75 6.390625 31.78125 6.390625 \r\n",
       "Q 38.8125 6.390625 42.859375 10.171875 \r\n",
       "Q 46.921875 13.96875 46.921875 20.515625 \r\n",
       "Q 46.921875 27.09375 42.890625 30.859375 \r\n",
       "Q 38.875 34.625 31.78125 34.625 \r\n",
       "z\r\n",
       "M 21.921875 38.8125 \r\n",
       "Q 15.578125 40.375 12.03125 44.71875 \r\n",
       "Q 8.5 49.078125 8.5 55.328125 \r\n",
       "Q 8.5 64.0625 14.71875 69.140625 \r\n",
       "Q 20.953125 74.21875 31.78125 74.21875 \r\n",
       "Q 42.671875 74.21875 48.875 69.140625 \r\n",
       "Q 55.078125 64.0625 55.078125 55.328125 \r\n",
       "Q 55.078125 49.078125 51.53125 44.71875 \r\n",
       "Q 48 40.375 41.703125 38.8125 \r\n",
       "Q 48.828125 37.15625 52.796875 32.3125 \r\n",
       "Q 56.78125 27.484375 56.78125 20.515625 \r\n",
       "Q 56.78125 9.90625 50.3125 4.234375 \r\n",
       "Q 43.84375 -1.421875 31.78125 -1.421875 \r\n",
       "Q 19.734375 -1.421875 13.25 4.234375 \r\n",
       "Q 6.78125 9.90625 6.78125 20.515625 \r\n",
       "Q 6.78125 27.484375 10.78125 32.3125 \r\n",
       "Q 14.796875 37.15625 21.921875 38.8125 \r\n",
       "z\r\n",
       "M 18.3125 54.390625 \r\n",
       "Q 18.3125 48.734375 21.84375 45.5625 \r\n",
       "Q 25.390625 42.390625 31.78125 42.390625 \r\n",
       "Q 38.140625 42.390625 41.71875 45.5625 \r\n",
       "Q 45.3125 48.734375 45.3125 54.390625 \r\n",
       "Q 45.3125 60.0625 41.71875 63.234375 \r\n",
       "Q 38.140625 66.40625 31.78125 66.40625 \r\n",
       "Q 25.390625 66.40625 21.84375 63.234375 \r\n",
       "Q 18.3125 60.0625 18.3125 54.390625 \r\n",
       "z\r\n",
       "\" id=\"DejaVuSans-56\"/>\r\n",
       "      </defs>\r\n",
       "      <g transform=\"translate(215.0505 241.829656)scale(0.1 -0.1)\">\r\n",
       "       <use xlink:href=\"#DejaVuSans-56\"/>\r\n",
       "       <use x=\"63.623047\" xlink:href=\"#DejaVuSans-48\"/>\r\n",
       "      </g>\r\n",
       "     </g>\r\n",
       "    </g>\r\n",
       "   </g>\r\n",
       "   <g id=\"matplotlib.axis_2\">\r\n",
       "    <g id=\"ytick_1\">\r\n",
       "     <g id=\"line2d_6\">\r\n",
       "      <defs>\r\n",
       "       <path d=\"M 0 0 \r\n",
       "L -3.5 0 \r\n",
       "\" id=\"m17ab803bc6\" style=\"stroke:#000000;stroke-width:0.8;\"/>\r\n",
       "      </defs>\r\n",
       "      <g>\r\n",
       "       <use style=\"stroke:#000000;stroke-width:0.8;\" x=\"26.925\" xlink:href=\"#m17ab803bc6\" y=\"10.999219\"/>\r\n",
       "      </g>\r\n",
       "     </g>\r\n",
       "     <g id=\"text_6\">\r\n",
       "      <!-- 0 -->\r\n",
       "      <g transform=\"translate(13.5625 14.798437)scale(0.1 -0.1)\">\r\n",
       "       <use xlink:href=\"#DejaVuSans-48\"/>\r\n",
       "      </g>\r\n",
       "     </g>\r\n",
       "    </g>\r\n",
       "    <g id=\"ytick_2\">\r\n",
       "     <g id=\"line2d_7\">\r\n",
       "      <g>\r\n",
       "       <use style=\"stroke:#000000;stroke-width:0.8;\" x=\"26.925\" xlink:href=\"#m17ab803bc6\" y=\"35.159219\"/>\r\n",
       "      </g>\r\n",
       "     </g>\r\n",
       "     <g id=\"text_7\">\r\n",
       "      <!-- 10 -->\r\n",
       "      <defs>\r\n",
       "       <path d=\"M 12.40625 8.296875 \r\n",
       "L 28.515625 8.296875 \r\n",
       "L 28.515625 63.921875 \r\n",
       "L 10.984375 60.40625 \r\n",
       "L 10.984375 69.390625 \r\n",
       "L 28.421875 72.90625 \r\n",
       "L 38.28125 72.90625 \r\n",
       "L 38.28125 8.296875 \r\n",
       "L 54.390625 8.296875 \r\n",
       "L 54.390625 0 \r\n",
       "L 12.40625 0 \r\n",
       "z\r\n",
       "\" id=\"DejaVuSans-49\"/>\r\n",
       "      </defs>\r\n",
       "      <g transform=\"translate(7.2 38.958437)scale(0.1 -0.1)\">\r\n",
       "       <use xlink:href=\"#DejaVuSans-49\"/>\r\n",
       "       <use x=\"63.623047\" xlink:href=\"#DejaVuSans-48\"/>\r\n",
       "      </g>\r\n",
       "     </g>\r\n",
       "    </g>\r\n",
       "    <g id=\"ytick_3\">\r\n",
       "     <g id=\"line2d_8\">\r\n",
       "      <g>\r\n",
       "       <use style=\"stroke:#000000;stroke-width:0.8;\" x=\"26.925\" xlink:href=\"#m17ab803bc6\" y=\"59.319219\"/>\r\n",
       "      </g>\r\n",
       "     </g>\r\n",
       "     <g id=\"text_8\">\r\n",
       "      <!-- 20 -->\r\n",
       "      <g transform=\"translate(7.2 63.118437)scale(0.1 -0.1)\">\r\n",
       "       <use xlink:href=\"#DejaVuSans-50\"/>\r\n",
       "       <use x=\"63.623047\" xlink:href=\"#DejaVuSans-48\"/>\r\n",
       "      </g>\r\n",
       "     </g>\r\n",
       "    </g>\r\n",
       "    <g id=\"ytick_4\">\r\n",
       "     <g id=\"line2d_9\">\r\n",
       "      <g>\r\n",
       "       <use style=\"stroke:#000000;stroke-width:0.8;\" x=\"26.925\" xlink:href=\"#m17ab803bc6\" y=\"83.479219\"/>\r\n",
       "      </g>\r\n",
       "     </g>\r\n",
       "     <g id=\"text_9\">\r\n",
       "      <!-- 30 -->\r\n",
       "      <defs>\r\n",
       "       <path d=\"M 40.578125 39.3125 \r\n",
       "Q 47.65625 37.796875 51.625 33 \r\n",
       "Q 55.609375 28.21875 55.609375 21.1875 \r\n",
       "Q 55.609375 10.40625 48.1875 4.484375 \r\n",
       "Q 40.765625 -1.421875 27.09375 -1.421875 \r\n",
       "Q 22.515625 -1.421875 17.65625 -0.515625 \r\n",
       "Q 12.796875 0.390625 7.625 2.203125 \r\n",
       "L 7.625 11.71875 \r\n",
       "Q 11.71875 9.328125 16.59375 8.109375 \r\n",
       "Q 21.484375 6.890625 26.8125 6.890625 \r\n",
       "Q 36.078125 6.890625 40.9375 10.546875 \r\n",
       "Q 45.796875 14.203125 45.796875 21.1875 \r\n",
       "Q 45.796875 27.640625 41.28125 31.265625 \r\n",
       "Q 36.765625 34.90625 28.71875 34.90625 \r\n",
       "L 20.21875 34.90625 \r\n",
       "L 20.21875 43.015625 \r\n",
       "L 29.109375 43.015625 \r\n",
       "Q 36.375 43.015625 40.234375 45.921875 \r\n",
       "Q 44.09375 48.828125 44.09375 54.296875 \r\n",
       "Q 44.09375 59.90625 40.109375 62.90625 \r\n",
       "Q 36.140625 65.921875 28.71875 65.921875 \r\n",
       "Q 24.65625 65.921875 20.015625 65.03125 \r\n",
       "Q 15.375 64.15625 9.8125 62.3125 \r\n",
       "L 9.8125 71.09375 \r\n",
       "Q 15.4375 72.65625 20.34375 73.4375 \r\n",
       "Q 25.25 74.21875 29.59375 74.21875 \r\n",
       "Q 40.828125 74.21875 47.359375 69.109375 \r\n",
       "Q 53.90625 64.015625 53.90625 55.328125 \r\n",
       "Q 53.90625 49.265625 50.4375 45.09375 \r\n",
       "Q 46.96875 40.921875 40.578125 39.3125 \r\n",
       "z\r\n",
       "\" id=\"DejaVuSans-51\"/>\r\n",
       "      </defs>\r\n",
       "      <g transform=\"translate(7.2 87.278437)scale(0.1 -0.1)\">\r\n",
       "       <use xlink:href=\"#DejaVuSans-51\"/>\r\n",
       "       <use x=\"63.623047\" xlink:href=\"#DejaVuSans-48\"/>\r\n",
       "      </g>\r\n",
       "     </g>\r\n",
       "    </g>\r\n",
       "    <g id=\"ytick_5\">\r\n",
       "     <g id=\"line2d_10\">\r\n",
       "      <g>\r\n",
       "       <use style=\"stroke:#000000;stroke-width:0.8;\" x=\"26.925\" xlink:href=\"#m17ab803bc6\" y=\"107.639219\"/>\r\n",
       "      </g>\r\n",
       "     </g>\r\n",
       "     <g id=\"text_10\">\r\n",
       "      <!-- 40 -->\r\n",
       "      <g transform=\"translate(7.2 111.438437)scale(0.1 -0.1)\">\r\n",
       "       <use xlink:href=\"#DejaVuSans-52\"/>\r\n",
       "       <use x=\"63.623047\" xlink:href=\"#DejaVuSans-48\"/>\r\n",
       "      </g>\r\n",
       "     </g>\r\n",
       "    </g>\r\n",
       "    <g id=\"ytick_6\">\r\n",
       "     <g id=\"line2d_11\">\r\n",
       "      <g>\r\n",
       "       <use style=\"stroke:#000000;stroke-width:0.8;\" x=\"26.925\" xlink:href=\"#m17ab803bc6\" y=\"131.799219\"/>\r\n",
       "      </g>\r\n",
       "     </g>\r\n",
       "     <g id=\"text_11\">\r\n",
       "      <!-- 50 -->\r\n",
       "      <defs>\r\n",
       "       <path d=\"M 10.796875 72.90625 \r\n",
       "L 49.515625 72.90625 \r\n",
       "L 49.515625 64.59375 \r\n",
       "L 19.828125 64.59375 \r\n",
       "L 19.828125 46.734375 \r\n",
       "Q 21.96875 47.46875 24.109375 47.828125 \r\n",
       "Q 26.265625 48.1875 28.421875 48.1875 \r\n",
       "Q 40.625 48.1875 47.75 41.5 \r\n",
       "Q 54.890625 34.8125 54.890625 23.390625 \r\n",
       "Q 54.890625 11.625 47.5625 5.09375 \r\n",
       "Q 40.234375 -1.421875 26.90625 -1.421875 \r\n",
       "Q 22.3125 -1.421875 17.546875 -0.640625 \r\n",
       "Q 12.796875 0.140625 7.71875 1.703125 \r\n",
       "L 7.71875 11.625 \r\n",
       "Q 12.109375 9.234375 16.796875 8.0625 \r\n",
       "Q 21.484375 6.890625 26.703125 6.890625 \r\n",
       "Q 35.15625 6.890625 40.078125 11.328125 \r\n",
       "Q 45.015625 15.765625 45.015625 23.390625 \r\n",
       "Q 45.015625 31 40.078125 35.4375 \r\n",
       "Q 35.15625 39.890625 26.703125 39.890625 \r\n",
       "Q 22.75 39.890625 18.8125 39.015625 \r\n",
       "Q 14.890625 38.140625 10.796875 36.28125 \r\n",
       "z\r\n",
       "\" id=\"DejaVuSans-53\"/>\r\n",
       "      </defs>\r\n",
       "      <g transform=\"translate(7.2 135.598437)scale(0.1 -0.1)\">\r\n",
       "       <use xlink:href=\"#DejaVuSans-53\"/>\r\n",
       "       <use x=\"63.623047\" xlink:href=\"#DejaVuSans-48\"/>\r\n",
       "      </g>\r\n",
       "     </g>\r\n",
       "    </g>\r\n",
       "    <g id=\"ytick_7\">\r\n",
       "     <g id=\"line2d_12\">\r\n",
       "      <g>\r\n",
       "       <use style=\"stroke:#000000;stroke-width:0.8;\" x=\"26.925\" xlink:href=\"#m17ab803bc6\" y=\"155.959219\"/>\r\n",
       "      </g>\r\n",
       "     </g>\r\n",
       "     <g id=\"text_12\">\r\n",
       "      <!-- 60 -->\r\n",
       "      <g transform=\"translate(7.2 159.758437)scale(0.1 -0.1)\">\r\n",
       "       <use xlink:href=\"#DejaVuSans-54\"/>\r\n",
       "       <use x=\"63.623047\" xlink:href=\"#DejaVuSans-48\"/>\r\n",
       "      </g>\r\n",
       "     </g>\r\n",
       "    </g>\r\n",
       "    <g id=\"ytick_8\">\r\n",
       "     <g id=\"line2d_13\">\r\n",
       "      <g>\r\n",
       "       <use style=\"stroke:#000000;stroke-width:0.8;\" x=\"26.925\" xlink:href=\"#m17ab803bc6\" y=\"180.119219\"/>\r\n",
       "      </g>\r\n",
       "     </g>\r\n",
       "     <g id=\"text_13\">\r\n",
       "      <!-- 70 -->\r\n",
       "      <defs>\r\n",
       "       <path d=\"M 8.203125 72.90625 \r\n",
       "L 55.078125 72.90625 \r\n",
       "L 55.078125 68.703125 \r\n",
       "L 28.609375 0 \r\n",
       "L 18.3125 0 \r\n",
       "L 43.21875 64.59375 \r\n",
       "L 8.203125 64.59375 \r\n",
       "z\r\n",
       "\" id=\"DejaVuSans-55\"/>\r\n",
       "      </defs>\r\n",
       "      <g transform=\"translate(7.2 183.918437)scale(0.1 -0.1)\">\r\n",
       "       <use xlink:href=\"#DejaVuSans-55\"/>\r\n",
       "       <use x=\"63.623047\" xlink:href=\"#DejaVuSans-48\"/>\r\n",
       "      </g>\r\n",
       "     </g>\r\n",
       "    </g>\r\n",
       "    <g id=\"ytick_9\">\r\n",
       "     <g id=\"line2d_14\">\r\n",
       "      <g>\r\n",
       "       <use style=\"stroke:#000000;stroke-width:0.8;\" x=\"26.925\" xlink:href=\"#m17ab803bc6\" y=\"204.279219\"/>\r\n",
       "      </g>\r\n",
       "     </g>\r\n",
       "     <g id=\"text_14\">\r\n",
       "      <!-- 80 -->\r\n",
       "      <g transform=\"translate(7.2 208.078437)scale(0.1 -0.1)\">\r\n",
       "       <use xlink:href=\"#DejaVuSans-56\"/>\r\n",
       "       <use x=\"63.623047\" xlink:href=\"#DejaVuSans-48\"/>\r\n",
       "      </g>\r\n",
       "     </g>\r\n",
       "    </g>\r\n",
       "   </g>\r\n",
       "   <g id=\"patch_3\">\r\n",
       "    <path d=\"M 26.925 227.231219 \r\n",
       "L 26.925 9.791219 \r\n",
       "\" style=\"fill:none;stroke:#000000;stroke-linecap:square;stroke-linejoin:miter;stroke-width:0.8;\"/>\r\n",
       "   </g>\r\n",
       "   <g id=\"patch_4\">\r\n",
       "    <path d=\"M 244.365 227.231219 \r\n",
       "L 244.365 9.791219 \r\n",
       "\" style=\"fill:none;stroke:#000000;stroke-linecap:square;stroke-linejoin:miter;stroke-width:0.8;\"/>\r\n",
       "   </g>\r\n",
       "   <g id=\"patch_5\">\r\n",
       "    <path d=\"M 26.925 227.231219 \r\n",
       "L 244.365 227.231219 \r\n",
       "\" style=\"fill:none;stroke:#000000;stroke-linecap:square;stroke-linejoin:miter;stroke-width:0.8;\"/>\r\n",
       "   </g>\r\n",
       "   <g id=\"patch_6\">\r\n",
       "    <path d=\"M 26.925 9.791219 \r\n",
       "L 244.365 9.791219 \r\n",
       "\" style=\"fill:none;stroke:#000000;stroke-linecap:square;stroke-linejoin:miter;stroke-width:0.8;\"/>\r\n",
       "   </g>\r\n",
       "  </g>\r\n",
       " </g>\r\n",
       " <defs>\r\n",
       "  <clipPath id=\"pb962144691\">\r\n",
       "   <rect height=\"217.44\" width=\"217.44\" x=\"26.925\" y=\"9.791219\"/>\r\n",
       "  </clipPath>\r\n",
       " </defs>\r\n",
       "</svg>\r\n"
      ],
      "text/plain": [
       "<Figure size 432x288 with 1 Axes>"
      ]
     },
     "metadata": {
      "needs_background": "light"
     },
     "output_type": "display_data"
    }
   ],
   "source": [
    "example_file = (\"http://upload.wikimedia.org/\" +\n",
    "               \"wikipedia/commons/7/7d/Dog_face.png\")\n",
    "image = imread(example_file, as_grey= True)\n",
    "plt.imshow(image, cmap=cm.gray)\n",
    "plt.show()"
   ]
  },
  {
   "cell_type": "code",
   "execution_count": 52,
   "metadata": {},
   "outputs": [
    {
     "name": "stdout",
     "output_type": "stream",
     "text": [
      "data type: <class 'numpy.ndarray'>, shape: (90, 90)\n"
     ]
    }
   ],
   "source": [
    "print(\"data type: %s, shape: %s\" %\n",
    "     (type(image), image.shape))"
   ]
  },
  {
   "cell_type": "code",
   "execution_count": 53,
   "metadata": {},
   "outputs": [
    {
     "data": {
      "application/pdf": "[encoded data removed]",
      "image/svg+xml": [
       "<?xml version=\"1.0\" encoding=\"utf-8\" standalone=\"no\"?>\r\n",
       "<!DOCTYPE svg PUBLIC \"-//W3C//DTD SVG 1.1//EN\"\r\n",
       "  \"http://www.w3.org/Graphics/SVG/1.1/DTD/svg11.dtd\">\r\n",
       "<!-- Created with matplotlib (https://matplotlib.org/) -->\r\n",
       "<svg height=\"250.644728pt\" version=\"1.1\" viewBox=\"0 0 268.291154 250.644728\" width=\"268.291154pt\" xmlns=\"http://www.w3.org/2000/svg\" xmlns:xlink=\"http://www.w3.org/1999/xlink\">\r\n",
       " <defs>\r\n",
       "  <style type=\"text/css\">\r\n",
       "*{stroke-linecap:butt;stroke-linejoin:round;}\r\n",
       "  </style>\r\n",
       " </defs>\r\n",
       " <g id=\"figure_1\">\r\n",
       "  <g id=\"patch_1\">\r\n",
       "   <path d=\"M 0 250.644728 \r\n",
       "L 268.291154 250.644728 \r\n",
       "L 268.291154 0 \r\n",
       "L 0 0 \r\n",
       "z\r\n",
       "\" style=\"fill:none;\"/>\r\n",
       "  </g>\r\n",
       "  <g id=\"axes_1\">\r\n",
       "   <g id=\"patch_2\">\r\n",
       "    <path d=\"M 26.925 226.766603 \r\n",
       "L 261.091154 226.766603 \r\n",
       "L 261.091154 9.326603 \r\n",
       "L 26.925 9.326603 \r\n",
       "z\r\n",
       "\" style=\"fill:#ffffff;\"/>\r\n",
       "   </g>\r\n",
       "   <g clip-path=\"url(#p5ff53945dc)\">\r\n",
       "    <image height=\"218\" id=\"image8303f71148\" transform=\"scale(1 -1)translate(0 -218)\" width=\"235\" x=\"26.925\" xlink:href=\"data:image/png;base64,\r\n",
       "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\" y=\"-8.766603\"/>\r\n",
       "   </g>\r\n",
       "   <g id=\"matplotlib.axis_1\">\r\n",
       "    <g id=\"xtick_1\">\r\n",
       "     <g id=\"line2d_1\">\r\n",
       "      <defs>\r\n",
       "       <path d=\"M 0 0 \r\n",
       "L 0 3.5 \r\n",
       "\" id=\"mdc54350043\" style=\"stroke:#000000;stroke-width:0.8;\"/>\r\n",
       "      </defs>\r\n",
       "      <g>\r\n",
       "       <use style=\"stroke:#000000;stroke-width:0.8;\" x=\"28.597615\" xlink:href=\"#mdc54350043\" y=\"226.766603\"/>\r\n",
       "      </g>\r\n",
       "     </g>\r\n",
       "     <g id=\"text_1\">\r\n",
       "      <!-- 0 -->\r\n",
       "      <defs>\r\n",
       "       <path d=\"M 31.78125 66.40625 \r\n",
       "Q 24.171875 66.40625 20.328125 58.90625 \r\n",
       "Q 16.5 51.421875 16.5 36.375 \r\n",
       "Q 16.5 21.390625 20.328125 13.890625 \r\n",
       "Q 24.171875 6.390625 31.78125 6.390625 \r\n",
       "Q 39.453125 6.390625 43.28125 13.890625 \r\n",
       "Q 47.125 21.390625 47.125 36.375 \r\n",
       "Q 47.125 51.421875 43.28125 58.90625 \r\n",
       "Q 39.453125 66.40625 31.78125 66.40625 \r\n",
       "z\r\n",
       "M 31.78125 74.21875 \r\n",
       "Q 44.046875 74.21875 50.515625 64.515625 \r\n",
       "Q 56.984375 54.828125 56.984375 36.375 \r\n",
       "Q 56.984375 17.96875 50.515625 8.265625 \r\n",
       "Q 44.046875 -1.421875 31.78125 -1.421875 \r\n",
       "Q 19.53125 -1.421875 13.0625 8.265625 \r\n",
       "Q 6.59375 17.96875 6.59375 36.375 \r\n",
       "Q 6.59375 54.828125 13.0625 64.515625 \r\n",
       "Q 19.53125 74.21875 31.78125 74.21875 \r\n",
       "z\r\n",
       "\" id=\"DejaVuSans-48\"/>\r\n",
       "      </defs>\r\n",
       "      <g transform=\"translate(25.416365 241.365041)scale(0.1 -0.1)\">\r\n",
       "       <use xlink:href=\"#DejaVuSans-48\"/>\r\n",
       "      </g>\r\n",
       "     </g>\r\n",
       "    </g>\r\n",
       "    <g id=\"xtick_2\">\r\n",
       "     <g id=\"line2d_2\">\r\n",
       "      <g>\r\n",
       "       <use style=\"stroke:#000000;stroke-width:0.8;\" x=\"62.049923\" xlink:href=\"#mdc54350043\" y=\"226.766603\"/>\r\n",
       "      </g>\r\n",
       "     </g>\r\n",
       "     <g id=\"text_2\">\r\n",
       "      <!-- 10 -->\r\n",
       "      <defs>\r\n",
       "       <path d=\"M 12.40625 8.296875 \r\n",
       "L 28.515625 8.296875 \r\n",
       "L 28.515625 63.921875 \r\n",
       "L 10.984375 60.40625 \r\n",
       "L 10.984375 69.390625 \r\n",
       "L 28.421875 72.90625 \r\n",
       "L 38.28125 72.90625 \r\n",
       "L 38.28125 8.296875 \r\n",
       "L 54.390625 8.296875 \r\n",
       "L 54.390625 0 \r\n",
       "L 12.40625 0 \r\n",
       "z\r\n",
       "\" id=\"DejaVuSans-49\"/>\r\n",
       "      </defs>\r\n",
       "      <g transform=\"translate(55.687423 241.365041)scale(0.1 -0.1)\">\r\n",
       "       <use xlink:href=\"#DejaVuSans-49\"/>\r\n",
       "       <use x=\"63.623047\" xlink:href=\"#DejaVuSans-48\"/>\r\n",
       "      </g>\r\n",
       "     </g>\r\n",
       "    </g>\r\n",
       "    <g id=\"xtick_3\">\r\n",
       "     <g id=\"line2d_3\">\r\n",
       "      <g>\r\n",
       "       <use style=\"stroke:#000000;stroke-width:0.8;\" x=\"95.502231\" xlink:href=\"#mdc54350043\" y=\"226.766603\"/>\r\n",
       "      </g>\r\n",
       "     </g>\r\n",
       "     <g id=\"text_3\">\r\n",
       "      <!-- 20 -->\r\n",
       "      <defs>\r\n",
       "       <path d=\"M 19.1875 8.296875 \r\n",
       "L 53.609375 8.296875 \r\n",
       "L 53.609375 0 \r\n",
       "L 7.328125 0 \r\n",
       "L 7.328125 8.296875 \r\n",
       "Q 12.9375 14.109375 22.625 23.890625 \r\n",
       "Q 32.328125 33.6875 34.8125 36.53125 \r\n",
       "Q 39.546875 41.84375 41.421875 45.53125 \r\n",
       "Q 43.3125 49.21875 43.3125 52.78125 \r\n",
       "Q 43.3125 58.59375 39.234375 62.25 \r\n",
       "Q 35.15625 65.921875 28.609375 65.921875 \r\n",
       "Q 23.96875 65.921875 18.8125 64.3125 \r\n",
       "Q 13.671875 62.703125 7.8125 59.421875 \r\n",
       "L 7.8125 69.390625 \r\n",
       "Q 13.765625 71.78125 18.9375 73 \r\n",
       "Q 24.125 74.21875 28.421875 74.21875 \r\n",
       "Q 39.75 74.21875 46.484375 68.546875 \r\n",
       "Q 53.21875 62.890625 53.21875 53.421875 \r\n",
       "Q 53.21875 48.921875 51.53125 44.890625 \r\n",
       "Q 49.859375 40.875 45.40625 35.40625 \r\n",
       "Q 44.1875 33.984375 37.640625 27.21875 \r\n",
       "Q 31.109375 20.453125 19.1875 8.296875 \r\n",
       "z\r\n",
       "\" id=\"DejaVuSans-50\"/>\r\n",
       "      </defs>\r\n",
       "      <g transform=\"translate(89.139731 241.365041)scale(0.1 -0.1)\">\r\n",
       "       <use xlink:href=\"#DejaVuSans-50\"/>\r\n",
       "       <use x=\"63.623047\" xlink:href=\"#DejaVuSans-48\"/>\r\n",
       "      </g>\r\n",
       "     </g>\r\n",
       "    </g>\r\n",
       "    <g id=\"xtick_4\">\r\n",
       "     <g id=\"line2d_4\">\r\n",
       "      <g>\r\n",
       "       <use style=\"stroke:#000000;stroke-width:0.8;\" x=\"128.954538\" xlink:href=\"#mdc54350043\" y=\"226.766603\"/>\r\n",
       "      </g>\r\n",
       "     </g>\r\n",
       "     <g id=\"text_4\">\r\n",
       "      <!-- 30 -->\r\n",
       "      <defs>\r\n",
       "       <path d=\"M 40.578125 39.3125 \r\n",
       "Q 47.65625 37.796875 51.625 33 \r\n",
       "Q 55.609375 28.21875 55.609375 21.1875 \r\n",
       "Q 55.609375 10.40625 48.1875 4.484375 \r\n",
       "Q 40.765625 -1.421875 27.09375 -1.421875 \r\n",
       "Q 22.515625 -1.421875 17.65625 -0.515625 \r\n",
       "Q 12.796875 0.390625 7.625 2.203125 \r\n",
       "L 7.625 11.71875 \r\n",
       "Q 11.71875 9.328125 16.59375 8.109375 \r\n",
       "Q 21.484375 6.890625 26.8125 6.890625 \r\n",
       "Q 36.078125 6.890625 40.9375 10.546875 \r\n",
       "Q 45.796875 14.203125 45.796875 21.1875 \r\n",
       "Q 45.796875 27.640625 41.28125 31.265625 \r\n",
       "Q 36.765625 34.90625 28.71875 34.90625 \r\n",
       "L 20.21875 34.90625 \r\n",
       "L 20.21875 43.015625 \r\n",
       "L 29.109375 43.015625 \r\n",
       "Q 36.375 43.015625 40.234375 45.921875 \r\n",
       "Q 44.09375 48.828125 44.09375 54.296875 \r\n",
       "Q 44.09375 59.90625 40.109375 62.90625 \r\n",
       "Q 36.140625 65.921875 28.71875 65.921875 \r\n",
       "Q 24.65625 65.921875 20.015625 65.03125 \r\n",
       "Q 15.375 64.15625 9.8125 62.3125 \r\n",
       "L 9.8125 71.09375 \r\n",
       "Q 15.4375 72.65625 20.34375 73.4375 \r\n",
       "Q 25.25 74.21875 29.59375 74.21875 \r\n",
       "Q 40.828125 74.21875 47.359375 69.109375 \r\n",
       "Q 53.90625 64.015625 53.90625 55.328125 \r\n",
       "Q 53.90625 49.265625 50.4375 45.09375 \r\n",
       "Q 46.96875 40.921875 40.578125 39.3125 \r\n",
       "z\r\n",
       "\" id=\"DejaVuSans-51\"/>\r\n",
       "      </defs>\r\n",
       "      <g transform=\"translate(122.592038 241.365041)scale(0.1 -0.1)\">\r\n",
       "       <use xlink:href=\"#DejaVuSans-51\"/>\r\n",
       "       <use x=\"63.623047\" xlink:href=\"#DejaVuSans-48\"/>\r\n",
       "      </g>\r\n",
       "     </g>\r\n",
       "    </g>\r\n",
       "    <g id=\"xtick_5\">\r\n",
       "     <g id=\"line2d_5\">\r\n",
       "      <g>\r\n",
       "       <use style=\"stroke:#000000;stroke-width:0.8;\" x=\"162.406846\" xlink:href=\"#mdc54350043\" y=\"226.766603\"/>\r\n",
       "      </g>\r\n",
       "     </g>\r\n",
       "     <g id=\"text_5\">\r\n",
       "      <!-- 40 -->\r\n",
       "      <defs>\r\n",
       "       <path d=\"M 37.796875 64.3125 \r\n",
       "L 12.890625 25.390625 \r\n",
       "L 37.796875 25.390625 \r\n",
       "z\r\n",
       "M 35.203125 72.90625 \r\n",
       "L 47.609375 72.90625 \r\n",
       "L 47.609375 25.390625 \r\n",
       "L 58.015625 25.390625 \r\n",
       "L 58.015625 17.1875 \r\n",
       "L 47.609375 17.1875 \r\n",
       "L 47.609375 0 \r\n",
       "L 37.796875 0 \r\n",
       "L 37.796875 17.1875 \r\n",
       "L 4.890625 17.1875 \r\n",
       "L 4.890625 26.703125 \r\n",
       "z\r\n",
       "\" id=\"DejaVuSans-52\"/>\r\n",
       "      </defs>\r\n",
       "      <g transform=\"translate(156.044346 241.365041)scale(0.1 -0.1)\">\r\n",
       "       <use xlink:href=\"#DejaVuSans-52\"/>\r\n",
       "       <use x=\"63.623047\" xlink:href=\"#DejaVuSans-48\"/>\r\n",
       "      </g>\r\n",
       "     </g>\r\n",
       "    </g>\r\n",
       "    <g id=\"xtick_6\">\r\n",
       "     <g id=\"line2d_6\">\r\n",
       "      <g>\r\n",
       "       <use style=\"stroke:#000000;stroke-width:0.8;\" x=\"195.859154\" xlink:href=\"#mdc54350043\" y=\"226.766603\"/>\r\n",
       "      </g>\r\n",
       "     </g>\r\n",
       "     <g id=\"text_6\">\r\n",
       "      <!-- 50 -->\r\n",
       "      <defs>\r\n",
       "       <path d=\"M 10.796875 72.90625 \r\n",
       "L 49.515625 72.90625 \r\n",
       "L 49.515625 64.59375 \r\n",
       "L 19.828125 64.59375 \r\n",
       "L 19.828125 46.734375 \r\n",
       "Q 21.96875 47.46875 24.109375 47.828125 \r\n",
       "Q 26.265625 48.1875 28.421875 48.1875 \r\n",
       "Q 40.625 48.1875 47.75 41.5 \r\n",
       "Q 54.890625 34.8125 54.890625 23.390625 \r\n",
       "Q 54.890625 11.625 47.5625 5.09375 \r\n",
       "Q 40.234375 -1.421875 26.90625 -1.421875 \r\n",
       "Q 22.3125 -1.421875 17.546875 -0.640625 \r\n",
       "Q 12.796875 0.140625 7.71875 1.703125 \r\n",
       "L 7.71875 11.625 \r\n",
       "Q 12.109375 9.234375 16.796875 8.0625 \r\n",
       "Q 21.484375 6.890625 26.703125 6.890625 \r\n",
       "Q 35.15625 6.890625 40.078125 11.328125 \r\n",
       "Q 45.015625 15.765625 45.015625 23.390625 \r\n",
       "Q 45.015625 31 40.078125 35.4375 \r\n",
       "Q 35.15625 39.890625 26.703125 39.890625 \r\n",
       "Q 22.75 39.890625 18.8125 39.015625 \r\n",
       "Q 14.890625 38.140625 10.796875 36.28125 \r\n",
       "z\r\n",
       "\" id=\"DejaVuSans-53\"/>\r\n",
       "      </defs>\r\n",
       "      <g transform=\"translate(189.496654 241.365041)scale(0.1 -0.1)\">\r\n",
       "       <use xlink:href=\"#DejaVuSans-53\"/>\r\n",
       "       <use x=\"63.623047\" xlink:href=\"#DejaVuSans-48\"/>\r\n",
       "      </g>\r\n",
       "     </g>\r\n",
       "    </g>\r\n",
       "    <g id=\"xtick_7\">\r\n",
       "     <g id=\"line2d_7\">\r\n",
       "      <g>\r\n",
       "       <use style=\"stroke:#000000;stroke-width:0.8;\" x=\"229.311462\" xlink:href=\"#mdc54350043\" y=\"226.766603\"/>\r\n",
       "      </g>\r\n",
       "     </g>\r\n",
       "     <g id=\"text_7\">\r\n",
       "      <!-- 60 -->\r\n",
       "      <defs>\r\n",
       "       <path d=\"M 33.015625 40.375 \r\n",
       "Q 26.375 40.375 22.484375 35.828125 \r\n",
       "Q 18.609375 31.296875 18.609375 23.390625 \r\n",
       "Q 18.609375 15.53125 22.484375 10.953125 \r\n",
       "Q 26.375 6.390625 33.015625 6.390625 \r\n",
       "Q 39.65625 6.390625 43.53125 10.953125 \r\n",
       "Q 47.40625 15.53125 47.40625 23.390625 \r\n",
       "Q 47.40625 31.296875 43.53125 35.828125 \r\n",
       "Q 39.65625 40.375 33.015625 40.375 \r\n",
       "z\r\n",
       "M 52.59375 71.296875 \r\n",
       "L 52.59375 62.3125 \r\n",
       "Q 48.875 64.0625 45.09375 64.984375 \r\n",
       "Q 41.3125 65.921875 37.59375 65.921875 \r\n",
       "Q 27.828125 65.921875 22.671875 59.328125 \r\n",
       "Q 17.53125 52.734375 16.796875 39.40625 \r\n",
       "Q 19.671875 43.65625 24.015625 45.921875 \r\n",
       "Q 28.375 48.1875 33.59375 48.1875 \r\n",
       "Q 44.578125 48.1875 50.953125 41.515625 \r\n",
       "Q 57.328125 34.859375 57.328125 23.390625 \r\n",
       "Q 57.328125 12.15625 50.6875 5.359375 \r\n",
       "Q 44.046875 -1.421875 33.015625 -1.421875 \r\n",
       "Q 20.359375 -1.421875 13.671875 8.265625 \r\n",
       "Q 6.984375 17.96875 6.984375 36.375 \r\n",
       "Q 6.984375 53.65625 15.1875 63.9375 \r\n",
       "Q 23.390625 74.21875 37.203125 74.21875 \r\n",
       "Q 40.921875 74.21875 44.703125 73.484375 \r\n",
       "Q 48.484375 72.75 52.59375 71.296875 \r\n",
       "z\r\n",
       "\" id=\"DejaVuSans-54\"/>\r\n",
       "      </defs>\r\n",
       "      <g transform=\"translate(222.948962 241.365041)scale(0.1 -0.1)\">\r\n",
       "       <use xlink:href=\"#DejaVuSans-54\"/>\r\n",
       "       <use x=\"63.623047\" xlink:href=\"#DejaVuSans-48\"/>\r\n",
       "      </g>\r\n",
       "     </g>\r\n",
       "    </g>\r\n",
       "   </g>\r\n",
       "   <g id=\"matplotlib.axis_2\">\r\n",
       "    <g id=\"ytick_1\">\r\n",
       "     <g id=\"line2d_8\">\r\n",
       "      <defs>\r\n",
       "       <path d=\"M 0 0 \r\n",
       "L -3.5 0 \r\n",
       "\" id=\"m934976a1d0\" style=\"stroke:#000000;stroke-width:0.8;\"/>\r\n",
       "      </defs>\r\n",
       "      <g>\r\n",
       "       <use style=\"stroke:#000000;stroke-width:0.8;\" x=\"26.925\" xlink:href=\"#m934976a1d0\" y=\"10.999219\"/>\r\n",
       "      </g>\r\n",
       "     </g>\r\n",
       "     <g id=\"text_8\">\r\n",
       "      <!-- 0 -->\r\n",
       "      <g transform=\"translate(13.5625 14.798437)scale(0.1 -0.1)\">\r\n",
       "       <use xlink:href=\"#DejaVuSans-48\"/>\r\n",
       "      </g>\r\n",
       "     </g>\r\n",
       "    </g>\r\n",
       "    <g id=\"ytick_2\">\r\n",
       "     <g id=\"line2d_9\">\r\n",
       "      <g>\r\n",
       "       <use style=\"stroke:#000000;stroke-width:0.8;\" x=\"26.925\" xlink:href=\"#m934976a1d0\" y=\"44.451526\"/>\r\n",
       "      </g>\r\n",
       "     </g>\r\n",
       "     <g id=\"text_9\">\r\n",
       "      <!-- 10 -->\r\n",
       "      <g transform=\"translate(7.2 48.250745)scale(0.1 -0.1)\">\r\n",
       "       <use xlink:href=\"#DejaVuSans-49\"/>\r\n",
       "       <use x=\"63.623047\" xlink:href=\"#DejaVuSans-48\"/>\r\n",
       "      </g>\r\n",
       "     </g>\r\n",
       "    </g>\r\n",
       "    <g id=\"ytick_3\">\r\n",
       "     <g id=\"line2d_10\">\r\n",
       "      <g>\r\n",
       "       <use style=\"stroke:#000000;stroke-width:0.8;\" x=\"26.925\" xlink:href=\"#m934976a1d0\" y=\"77.903834\"/>\r\n",
       "      </g>\r\n",
       "     </g>\r\n",
       "     <g id=\"text_10\">\r\n",
       "      <!-- 20 -->\r\n",
       "      <g transform=\"translate(7.2 81.703053)scale(0.1 -0.1)\">\r\n",
       "       <use xlink:href=\"#DejaVuSans-50\"/>\r\n",
       "       <use x=\"63.623047\" xlink:href=\"#DejaVuSans-48\"/>\r\n",
       "      </g>\r\n",
       "     </g>\r\n",
       "    </g>\r\n",
       "    <g id=\"ytick_4\">\r\n",
       "     <g id=\"line2d_11\">\r\n",
       "      <g>\r\n",
       "       <use style=\"stroke:#000000;stroke-width:0.8;\" x=\"26.925\" xlink:href=\"#m934976a1d0\" y=\"111.356142\"/>\r\n",
       "      </g>\r\n",
       "     </g>\r\n",
       "     <g id=\"text_11\">\r\n",
       "      <!-- 30 -->\r\n",
       "      <g transform=\"translate(7.2 115.155361)scale(0.1 -0.1)\">\r\n",
       "       <use xlink:href=\"#DejaVuSans-51\"/>\r\n",
       "       <use x=\"63.623047\" xlink:href=\"#DejaVuSans-48\"/>\r\n",
       "      </g>\r\n",
       "     </g>\r\n",
       "    </g>\r\n",
       "    <g id=\"ytick_5\">\r\n",
       "     <g id=\"line2d_12\">\r\n",
       "      <g>\r\n",
       "       <use style=\"stroke:#000000;stroke-width:0.8;\" x=\"26.925\" xlink:href=\"#m934976a1d0\" y=\"144.80845\"/>\r\n",
       "      </g>\r\n",
       "     </g>\r\n",
       "     <g id=\"text_12\">\r\n",
       "      <!-- 40 -->\r\n",
       "      <g transform=\"translate(7.2 148.607668)scale(0.1 -0.1)\">\r\n",
       "       <use xlink:href=\"#DejaVuSans-52\"/>\r\n",
       "       <use x=\"63.623047\" xlink:href=\"#DejaVuSans-48\"/>\r\n",
       "      </g>\r\n",
       "     </g>\r\n",
       "    </g>\r\n",
       "    <g id=\"ytick_6\">\r\n",
       "     <g id=\"line2d_13\">\r\n",
       "      <g>\r\n",
       "       <use style=\"stroke:#000000;stroke-width:0.8;\" x=\"26.925\" xlink:href=\"#m934976a1d0\" y=\"178.260757\"/>\r\n",
       "      </g>\r\n",
       "     </g>\r\n",
       "     <g id=\"text_13\">\r\n",
       "      <!-- 50 -->\r\n",
       "      <g transform=\"translate(7.2 182.059976)scale(0.1 -0.1)\">\r\n",
       "       <use xlink:href=\"#DejaVuSans-53\"/>\r\n",
       "       <use x=\"63.623047\" xlink:href=\"#DejaVuSans-48\"/>\r\n",
       "      </g>\r\n",
       "     </g>\r\n",
       "    </g>\r\n",
       "    <g id=\"ytick_7\">\r\n",
       "     <g id=\"line2d_14\">\r\n",
       "      <g>\r\n",
       "       <use style=\"stroke:#000000;stroke-width:0.8;\" x=\"26.925\" xlink:href=\"#m934976a1d0\" y=\"211.713065\"/>\r\n",
       "      </g>\r\n",
       "     </g>\r\n",
       "     <g id=\"text_14\">\r\n",
       "      <!-- 60 -->\r\n",
       "      <g transform=\"translate(7.2 215.512284)scale(0.1 -0.1)\">\r\n",
       "       <use xlink:href=\"#DejaVuSans-54\"/>\r\n",
       "       <use x=\"63.623047\" xlink:href=\"#DejaVuSans-48\"/>\r\n",
       "      </g>\r\n",
       "     </g>\r\n",
       "    </g>\r\n",
       "   </g>\r\n",
       "   <g id=\"patch_3\">\r\n",
       "    <path d=\"M 26.925 226.766603 \r\n",
       "L 26.925 9.326603 \r\n",
       "\" style=\"fill:none;stroke:#000000;stroke-linecap:square;stroke-linejoin:miter;stroke-width:0.8;\"/>\r\n",
       "   </g>\r\n",
       "   <g id=\"patch_4\">\r\n",
       "    <path d=\"M 261.091154 226.766603 \r\n",
       "L 261.091154 9.326603 \r\n",
       "\" style=\"fill:none;stroke:#000000;stroke-linecap:square;stroke-linejoin:miter;stroke-width:0.8;\"/>\r\n",
       "   </g>\r\n",
       "   <g id=\"patch_5\">\r\n",
       "    <path d=\"M 26.925 226.766603 \r\n",
       "L 261.091154 226.766603 \r\n",
       "\" style=\"fill:none;stroke:#000000;stroke-linecap:square;stroke-linejoin:miter;stroke-width:0.8;\"/>\r\n",
       "   </g>\r\n",
       "   <g id=\"patch_6\">\r\n",
       "    <path d=\"M 26.925 9.326603 \r\n",
       "L 261.091154 9.326603 \r\n",
       "\" style=\"fill:none;stroke:#000000;stroke-linecap:square;stroke-linejoin:miter;stroke-width:0.8;\"/>\r\n",
       "   </g>\r\n",
       "  </g>\r\n",
       " </g>\r\n",
       " <defs>\r\n",
       "  <clipPath id=\"p5ff53945dc\">\r\n",
       "   <rect height=\"217.44\" width=\"234.166154\" x=\"26.925\" y=\"9.326603\"/>\r\n",
       "  </clipPath>\r\n",
       " </defs>\r\n",
       "</svg>\r\n"
      ],
      "text/plain": [
       "<Figure size 432x288 with 1 Axes>"
      ]
     },
     "metadata": {
      "needs_background": "light"
     },
     "output_type": "display_data"
    }
   ],
   "source": [
    "# To cropping the image\n",
    "image2 = image[5:70,0:70]\n",
    "plt.imshow(image2, cmap=cm.gray)\n",
    "plt.show()"
   ]
  },
  {
   "cell_type": "code",
   "execution_count": 55,
   "metadata": {},
   "outputs": [
    {
     "name": "stdout",
     "output_type": "stream",
     "text": [
      "data type: <class 'numpy.ndarray'>, shape: (30, 30)\n"
     ]
    },
    {
     "data": {
      "application/pdf": "[encoded data removed]",
      "image/svg+xml": [
       "<?xml version=\"1.0\" encoding=\"utf-8\" standalone=\"no\"?>\r\n",
       "<!DOCTYPE svg PUBLIC \"-//W3C//DTD SVG 1.1//EN\"\r\n",
       "  \"http://www.w3.org/Graphics/SVG/1.1/DTD/svg11.dtd\">\r\n",
       "<!-- Created with matplotlib (https://matplotlib.org/) -->\r\n",
       "<svg height=\"248.693344pt\" version=\"1.1\" viewBox=\"0 0 251.565 248.693344\" width=\"251.565pt\" xmlns=\"http://www.w3.org/2000/svg\" xmlns:xlink=\"http://www.w3.org/1999/xlink\">\r\n",
       " <defs>\r\n",
       "  <style type=\"text/css\">\r\n",
       "*{stroke-linecap:butt;stroke-linejoin:round;}\r\n",
       "  </style>\r\n",
       " </defs>\r\n",
       " <g id=\"figure_1\">\r\n",
       "  <g id=\"patch_1\">\r\n",
       "   <path d=\"M 0 248.693344 \r\n",
       "L 251.565 248.693344 \r\n",
       "L 251.565 0 \r\n",
       "L 0 0 \r\n",
       "z\r\n",
       "\" style=\"fill:none;\"/>\r\n",
       "  </g>\r\n",
       "  <g id=\"axes_1\">\r\n",
       "   <g id=\"patch_2\">\r\n",
       "    <path d=\"M 26.925 224.815219 \r\n",
       "L 244.365 224.815219 \r\n",
       "L 244.365 7.375219 \r\n",
       "L 26.925 7.375219 \r\n",
       "z\r\n",
       "\" style=\"fill:#ffffff;\"/>\r\n",
       "   </g>\r\n",
       "   <g clip-path=\"url(#p722e1d98a7)\">\r\n",
       "    <image height=\"218\" id=\"imageaac86dc583\" transform=\"scale(1 -1)translate(0 -218)\" width=\"218\" x=\"26.925\" xlink:href=\"data:image/png;base64,\r\n",
       "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\" y=\"-6.815219\"/>\r\n",
       "   </g>\r\n",
       "   <g id=\"matplotlib.axis_1\">\r\n",
       "    <g id=\"xtick_1\">\r\n",
       "     <g id=\"line2d_1\">\r\n",
       "      <defs>\r\n",
       "       <path d=\"M 0 0 \r\n",
       "L 0 3.5 \r\n",
       "\" id=\"m49da3636c5\" style=\"stroke:#000000;stroke-width:0.8;\"/>\r\n",
       "      </defs>\r\n",
       "      <g>\r\n",
       "       <use style=\"stroke:#000000;stroke-width:0.8;\" x=\"30.549\" xlink:href=\"#m49da3636c5\" y=\"224.815219\"/>\r\n",
       "      </g>\r\n",
       "     </g>\r\n",
       "     <g id=\"text_1\">\r\n",
       "      <!-- 0 -->\r\n",
       "      <defs>\r\n",
       "       <path d=\"M 31.78125 66.40625 \r\n",
       "Q 24.171875 66.40625 20.328125 58.90625 \r\n",
       "Q 16.5 51.421875 16.5 36.375 \r\n",
       "Q 16.5 21.390625 20.328125 13.890625 \r\n",
       "Q 24.171875 6.390625 31.78125 6.390625 \r\n",
       "Q 39.453125 6.390625 43.28125 13.890625 \r\n",
       "Q 47.125 21.390625 47.125 36.375 \r\n",
       "Q 47.125 51.421875 43.28125 58.90625 \r\n",
       "Q 39.453125 66.40625 31.78125 66.40625 \r\n",
       "z\r\n",
       "M 31.78125 74.21875 \r\n",
       "Q 44.046875 74.21875 50.515625 64.515625 \r\n",
       "Q 56.984375 54.828125 56.984375 36.375 \r\n",
       "Q 56.984375 17.96875 50.515625 8.265625 \r\n",
       "Q 44.046875 -1.421875 31.78125 -1.421875 \r\n",
       "Q 19.53125 -1.421875 13.0625 8.265625 \r\n",
       "Q 6.59375 17.96875 6.59375 36.375 \r\n",
       "Q 6.59375 54.828125 13.0625 64.515625 \r\n",
       "Q 19.53125 74.21875 31.78125 74.21875 \r\n",
       "z\r\n",
       "\" id=\"DejaVuSans-48\"/>\r\n",
       "      </defs>\r\n",
       "      <g transform=\"translate(27.36775 239.413656)scale(0.1 -0.1)\">\r\n",
       "       <use xlink:href=\"#DejaVuSans-48\"/>\r\n",
       "      </g>\r\n",
       "     </g>\r\n",
       "    </g>\r\n",
       "    <g id=\"xtick_2\">\r\n",
       "     <g id=\"line2d_2\">\r\n",
       "      <g>\r\n",
       "       <use style=\"stroke:#000000;stroke-width:0.8;\" x=\"66.789\" xlink:href=\"#m49da3636c5\" y=\"224.815219\"/>\r\n",
       "      </g>\r\n",
       "     </g>\r\n",
       "     <g id=\"text_2\">\r\n",
       "      <!-- 5 -->\r\n",
       "      <defs>\r\n",
       "       <path d=\"M 10.796875 72.90625 \r\n",
       "L 49.515625 72.90625 \r\n",
       "L 49.515625 64.59375 \r\n",
       "L 19.828125 64.59375 \r\n",
       "L 19.828125 46.734375 \r\n",
       "Q 21.96875 47.46875 24.109375 47.828125 \r\n",
       "Q 26.265625 48.1875 28.421875 48.1875 \r\n",
       "Q 40.625 48.1875 47.75 41.5 \r\n",
       "Q 54.890625 34.8125 54.890625 23.390625 \r\n",
       "Q 54.890625 11.625 47.5625 5.09375 \r\n",
       "Q 40.234375 -1.421875 26.90625 -1.421875 \r\n",
       "Q 22.3125 -1.421875 17.546875 -0.640625 \r\n",
       "Q 12.796875 0.140625 7.71875 1.703125 \r\n",
       "L 7.71875 11.625 \r\n",
       "Q 12.109375 9.234375 16.796875 8.0625 \r\n",
       "Q 21.484375 6.890625 26.703125 6.890625 \r\n",
       "Q 35.15625 6.890625 40.078125 11.328125 \r\n",
       "Q 45.015625 15.765625 45.015625 23.390625 \r\n",
       "Q 45.015625 31 40.078125 35.4375 \r\n",
       "Q 35.15625 39.890625 26.703125 39.890625 \r\n",
       "Q 22.75 39.890625 18.8125 39.015625 \r\n",
       "Q 14.890625 38.140625 10.796875 36.28125 \r\n",
       "z\r\n",
       "\" id=\"DejaVuSans-53\"/>\r\n",
       "      </defs>\r\n",
       "      <g transform=\"translate(63.60775 239.413656)scale(0.1 -0.1)\">\r\n",
       "       <use xlink:href=\"#DejaVuSans-53\"/>\r\n",
       "      </g>\r\n",
       "     </g>\r\n",
       "    </g>\r\n",
       "    <g id=\"xtick_3\">\r\n",
       "     <g id=\"line2d_3\">\r\n",
       "      <g>\r\n",
       "       <use style=\"stroke:#000000;stroke-width:0.8;\" x=\"103.029\" xlink:href=\"#m49da3636c5\" y=\"224.815219\"/>\r\n",
       "      </g>\r\n",
       "     </g>\r\n",
       "     <g id=\"text_3\">\r\n",
       "      <!-- 10 -->\r\n",
       "      <defs>\r\n",
       "       <path d=\"M 12.40625 8.296875 \r\n",
       "L 28.515625 8.296875 \r\n",
       "L 28.515625 63.921875 \r\n",
       "L 10.984375 60.40625 \r\n",
       "L 10.984375 69.390625 \r\n",
       "L 28.421875 72.90625 \r\n",
       "L 38.28125 72.90625 \r\n",
       "L 38.28125 8.296875 \r\n",
       "L 54.390625 8.296875 \r\n",
       "L 54.390625 0 \r\n",
       "L 12.40625 0 \r\n",
       "z\r\n",
       "\" id=\"DejaVuSans-49\"/>\r\n",
       "      </defs>\r\n",
       "      <g transform=\"translate(96.6665 239.413656)scale(0.1 -0.1)\">\r\n",
       "       <use xlink:href=\"#DejaVuSans-49\"/>\r\n",
       "       <use x=\"63.623047\" xlink:href=\"#DejaVuSans-48\"/>\r\n",
       "      </g>\r\n",
       "     </g>\r\n",
       "    </g>\r\n",
       "    <g id=\"xtick_4\">\r\n",
       "     <g id=\"line2d_4\">\r\n",
       "      <g>\r\n",
       "       <use style=\"stroke:#000000;stroke-width:0.8;\" x=\"139.269\" xlink:href=\"#m49da3636c5\" y=\"224.815219\"/>\r\n",
       "      </g>\r\n",
       "     </g>\r\n",
       "     <g id=\"text_4\">\r\n",
       "      <!-- 15 -->\r\n",
       "      <g transform=\"translate(132.9065 239.413656)scale(0.1 -0.1)\">\r\n",
       "       <use xlink:href=\"#DejaVuSans-49\"/>\r\n",
       "       <use x=\"63.623047\" xlink:href=\"#DejaVuSans-53\"/>\r\n",
       "      </g>\r\n",
       "     </g>\r\n",
       "    </g>\r\n",
       "    <g id=\"xtick_5\">\r\n",
       "     <g id=\"line2d_5\">\r\n",
       "      <g>\r\n",
       "       <use style=\"stroke:#000000;stroke-width:0.8;\" x=\"175.509\" xlink:href=\"#m49da3636c5\" y=\"224.815219\"/>\r\n",
       "      </g>\r\n",
       "     </g>\r\n",
       "     <g id=\"text_5\">\r\n",
       "      <!-- 20 -->\r\n",
       "      <defs>\r\n",
       "       <path d=\"M 19.1875 8.296875 \r\n",
       "L 53.609375 8.296875 \r\n",
       "L 53.609375 0 \r\n",
       "L 7.328125 0 \r\n",
       "L 7.328125 8.296875 \r\n",
       "Q 12.9375 14.109375 22.625 23.890625 \r\n",
       "Q 32.328125 33.6875 34.8125 36.53125 \r\n",
       "Q 39.546875 41.84375 41.421875 45.53125 \r\n",
       "Q 43.3125 49.21875 43.3125 52.78125 \r\n",
       "Q 43.3125 58.59375 39.234375 62.25 \r\n",
       "Q 35.15625 65.921875 28.609375 65.921875 \r\n",
       "Q 23.96875 65.921875 18.8125 64.3125 \r\n",
       "Q 13.671875 62.703125 7.8125 59.421875 \r\n",
       "L 7.8125 69.390625 \r\n",
       "Q 13.765625 71.78125 18.9375 73 \r\n",
       "Q 24.125 74.21875 28.421875 74.21875 \r\n",
       "Q 39.75 74.21875 46.484375 68.546875 \r\n",
       "Q 53.21875 62.890625 53.21875 53.421875 \r\n",
       "Q 53.21875 48.921875 51.53125 44.890625 \r\n",
       "Q 49.859375 40.875 45.40625 35.40625 \r\n",
       "Q 44.1875 33.984375 37.640625 27.21875 \r\n",
       "Q 31.109375 20.453125 19.1875 8.296875 \r\n",
       "z\r\n",
       "\" id=\"DejaVuSans-50\"/>\r\n",
       "      </defs>\r\n",
       "      <g transform=\"translate(169.1465 239.413656)scale(0.1 -0.1)\">\r\n",
       "       <use xlink:href=\"#DejaVuSans-50\"/>\r\n",
       "       <use x=\"63.623047\" xlink:href=\"#DejaVuSans-48\"/>\r\n",
       "      </g>\r\n",
       "     </g>\r\n",
       "    </g>\r\n",
       "    <g id=\"xtick_6\">\r\n",
       "     <g id=\"line2d_6\">\r\n",
       "      <g>\r\n",
       "       <use style=\"stroke:#000000;stroke-width:0.8;\" x=\"211.749\" xlink:href=\"#m49da3636c5\" y=\"224.815219\"/>\r\n",
       "      </g>\r\n",
       "     </g>\r\n",
       "     <g id=\"text_6\">\r\n",
       "      <!-- 25 -->\r\n",
       "      <g transform=\"translate(205.3865 239.413656)scale(0.1 -0.1)\">\r\n",
       "       <use xlink:href=\"#DejaVuSans-50\"/>\r\n",
       "       <use x=\"63.623047\" xlink:href=\"#DejaVuSans-53\"/>\r\n",
       "      </g>\r\n",
       "     </g>\r\n",
       "    </g>\r\n",
       "   </g>\r\n",
       "   <g id=\"matplotlib.axis_2\">\r\n",
       "    <g id=\"ytick_1\">\r\n",
       "     <g id=\"line2d_7\">\r\n",
       "      <defs>\r\n",
       "       <path d=\"M 0 0 \r\n",
       "L -3.5 0 \r\n",
       "\" id=\"m5be28b3012\" style=\"stroke:#000000;stroke-width:0.8;\"/>\r\n",
       "      </defs>\r\n",
       "      <g>\r\n",
       "       <use style=\"stroke:#000000;stroke-width:0.8;\" x=\"26.925\" xlink:href=\"#m5be28b3012\" y=\"10.999219\"/>\r\n",
       "      </g>\r\n",
       "     </g>\r\n",
       "     <g id=\"text_7\">\r\n",
       "      <!-- 0 -->\r\n",
       "      <g transform=\"translate(13.5625 14.798437)scale(0.1 -0.1)\">\r\n",
       "       <use xlink:href=\"#DejaVuSans-48\"/>\r\n",
       "      </g>\r\n",
       "     </g>\r\n",
       "    </g>\r\n",
       "    <g id=\"ytick_2\">\r\n",
       "     <g id=\"line2d_8\">\r\n",
       "      <g>\r\n",
       "       <use style=\"stroke:#000000;stroke-width:0.8;\" x=\"26.925\" xlink:href=\"#m5be28b3012\" y=\"47.239219\"/>\r\n",
       "      </g>\r\n",
       "     </g>\r\n",
       "     <g id=\"text_8\">\r\n",
       "      <!-- 5 -->\r\n",
       "      <g transform=\"translate(13.5625 51.038437)scale(0.1 -0.1)\">\r\n",
       "       <use xlink:href=\"#DejaVuSans-53\"/>\r\n",
       "      </g>\r\n",
       "     </g>\r\n",
       "    </g>\r\n",
       "    <g id=\"ytick_3\">\r\n",
       "     <g id=\"line2d_9\">\r\n",
       "      <g>\r\n",
       "       <use style=\"stroke:#000000;stroke-width:0.8;\" x=\"26.925\" xlink:href=\"#m5be28b3012\" y=\"83.479219\"/>\r\n",
       "      </g>\r\n",
       "     </g>\r\n",
       "     <g id=\"text_9\">\r\n",
       "      <!-- 10 -->\r\n",
       "      <g transform=\"translate(7.2 87.278437)scale(0.1 -0.1)\">\r\n",
       "       <use xlink:href=\"#DejaVuSans-49\"/>\r\n",
       "       <use x=\"63.623047\" xlink:href=\"#DejaVuSans-48\"/>\r\n",
       "      </g>\r\n",
       "     </g>\r\n",
       "    </g>\r\n",
       "    <g id=\"ytick_4\">\r\n",
       "     <g id=\"line2d_10\">\r\n",
       "      <g>\r\n",
       "       <use style=\"stroke:#000000;stroke-width:0.8;\" x=\"26.925\" xlink:href=\"#m5be28b3012\" y=\"119.719219\"/>\r\n",
       "      </g>\r\n",
       "     </g>\r\n",
       "     <g id=\"text_10\">\r\n",
       "      <!-- 15 -->\r\n",
       "      <g transform=\"translate(7.2 123.518437)scale(0.1 -0.1)\">\r\n",
       "       <use xlink:href=\"#DejaVuSans-49\"/>\r\n",
       "       <use x=\"63.623047\" xlink:href=\"#DejaVuSans-53\"/>\r\n",
       "      </g>\r\n",
       "     </g>\r\n",
       "    </g>\r\n",
       "    <g id=\"ytick_5\">\r\n",
       "     <g id=\"line2d_11\">\r\n",
       "      <g>\r\n",
       "       <use style=\"stroke:#000000;stroke-width:0.8;\" x=\"26.925\" xlink:href=\"#m5be28b3012\" y=\"155.959219\"/>\r\n",
       "      </g>\r\n",
       "     </g>\r\n",
       "     <g id=\"text_11\">\r\n",
       "      <!-- 20 -->\r\n",
       "      <g transform=\"translate(7.2 159.758437)scale(0.1 -0.1)\">\r\n",
       "       <use xlink:href=\"#DejaVuSans-50\"/>\r\n",
       "       <use x=\"63.623047\" xlink:href=\"#DejaVuSans-48\"/>\r\n",
       "      </g>\r\n",
       "     </g>\r\n",
       "    </g>\r\n",
       "    <g id=\"ytick_6\">\r\n",
       "     <g id=\"line2d_12\">\r\n",
       "      <g>\r\n",
       "       <use style=\"stroke:#000000;stroke-width:0.8;\" x=\"26.925\" xlink:href=\"#m5be28b3012\" y=\"192.199219\"/>\r\n",
       "      </g>\r\n",
       "     </g>\r\n",
       "     <g id=\"text_12\">\r\n",
       "      <!-- 25 -->\r\n",
       "      <g transform=\"translate(7.2 195.998437)scale(0.1 -0.1)\">\r\n",
       "       <use xlink:href=\"#DejaVuSans-50\"/>\r\n",
       "       <use x=\"63.623047\" xlink:href=\"#DejaVuSans-53\"/>\r\n",
       "      </g>\r\n",
       "     </g>\r\n",
       "    </g>\r\n",
       "   </g>\r\n",
       "   <g id=\"patch_3\">\r\n",
       "    <path d=\"M 26.925 224.815219 \r\n",
       "L 26.925 7.375219 \r\n",
       "\" style=\"fill:none;stroke:#000000;stroke-linecap:square;stroke-linejoin:miter;stroke-width:0.8;\"/>\r\n",
       "   </g>\r\n",
       "   <g id=\"patch_4\">\r\n",
       "    <path d=\"M 244.365 224.815219 \r\n",
       "L 244.365 7.375219 \r\n",
       "\" style=\"fill:none;stroke:#000000;stroke-linecap:square;stroke-linejoin:miter;stroke-width:0.8;\"/>\r\n",
       "   </g>\r\n",
       "   <g id=\"patch_5\">\r\n",
       "    <path d=\"M 26.925 224.815219 \r\n",
       "L 244.365 224.815219 \r\n",
       "\" style=\"fill:none;stroke:#000000;stroke-linecap:square;stroke-linejoin:miter;stroke-width:0.8;\"/>\r\n",
       "   </g>\r\n",
       "   <g id=\"patch_6\">\r\n",
       "    <path d=\"M 26.925 7.375219 \r\n",
       "L 244.365 7.375219 \r\n",
       "\" style=\"fill:none;stroke:#000000;stroke-linecap:square;stroke-linejoin:miter;stroke-width:0.8;\"/>\r\n",
       "   </g>\r\n",
       "  </g>\r\n",
       " </g>\r\n",
       " <defs>\r\n",
       "  <clipPath id=\"p722e1d98a7\">\r\n",
       "   <rect height=\"217.44\" width=\"217.44\" x=\"26.925\" y=\"7.375219\"/>\r\n",
       "  </clipPath>\r\n",
       " </defs>\r\n",
       "</svg>\r\n"
      ],
      "text/plain": [
       "<Figure size 432x288 with 1 Axes>"
      ]
     },
     "metadata": {
      "needs_background": "light"
     },
     "output_type": "display_data"
    }
   ],
   "source": [
    "image3 = resize(image2, (30, 30), mode='symmetric')\n",
    "plt.imshow(image3, cmap=cm.gray)\n",
    "print(\"data type: %s, shape: %s\" %\n",
    "     (type(image3), image3.shape))"
   ]
  },
  {
   "cell_type": "code",
   "execution_count": 56,
   "metadata": {},
   "outputs": [
    {
     "name": "stdout",
     "output_type": "stream",
     "text": [
      "data type: <class 'numpy.ndarray'>, shape: (900,)\n"
     ]
    }
   ],
   "source": [
    "image_row = image3.flatten()\n",
    "print(\"data type: %s, shape: %s\" %\n",
    "     (type(image_row), image_row.shape))"
   ]
  },
  {
   "cell_type": "markdown",
   "metadata": {},
   "source": [
    "# Was it straightforward to install Python and all of the libraries?"
   ]
  },
  {
   "cell_type": "code",
   "execution_count": null,
   "metadata": {},
   "outputs": [],
   "source": [
    "# Initially, I have installed Anaconda 3.7.4 from CLI which include all required libraries packages and Jupyter Notebook. \n",
    "# Later on, when I run pip3 -- version, I got an error message: \"'pip3' is not recognized as an internal or external command,\n",
    "# operable program or batch file\". Therefore, I downloaded a straight version of Python by itself and want to see it I can run \n",
    "# the same command. Yes I did! But here came another question, I do not want to create too many environments at the same time, \n",
    "# it is not easy to organize the files and took a lot space and if I want to intall Numpy under one environment I could not \n",
    "# see it in the other environment. After I did some online research, i decided to remove the Python and only kept the \n",
    "# Anaconda. I used Anaconda Navigator to search for the latest version of each libary package and then downloaded to the \n",
    "# Anaconda Environment. All resources have been integrated under Anaconda:) "
   ]
  },
  {
   "cell_type": "markdown",
   "metadata": {},
   "source": [
    "# Was the tutorial useful? Would you recommend it to others?"
   ]
  },
  {
   "cell_type": "code",
   "execution_count": null,
   "metadata": {},
   "outputs": [],
   "source": [
    "# Yes, the tutorial is very useful. I would recommmend it to other friends who is interested in learning Python or setting up\n",
    "# Jupyter Notebook. "
   ]
  },
  {
   "cell_type": "markdown",
   "metadata": {},
   "source": [
    "# What are the main lessons you've learned from this experience?"
   ]
  },
  {
   "cell_type": "code",
   "execution_count": null,
   "metadata": {},
   "outputs": [],
   "source": [
    "# I need to get used to the Command Line Interface from now on. Acutally starting from the 4th course, I started to use CLI \n",
    "# more often, like setting up the AWS, concatenating the large matrix data that I crawlled from Common Crawl. In this course,\n",
    "# I learnt to commit/push files onto Github repository and download packages to my local machine all via CLI.  "
   ]
  },
  {
   "cell_type": "code",
   "execution_count": null,
   "metadata": {},
   "outputs": [],
   "source": []
  }
 ],
 "metadata": {
  "kernelspec": {
   "display_name": "Python 3",
   "language": "python",
   "name": "python3"
  },
  "language_info": {
   "codemirror_mode": {
    "name": "ipython",
    "version": 3
   },
   "file_extension": ".py",
   "mimetype": "text/x-python",
   "name": "python",
   "nbconvert_exporter": "python",
   "pygments_lexer": "ipython3",
   "version": "3.7.4"
  }
 },
 "nbformat": 4,
 "nbformat_minor": 2
}
